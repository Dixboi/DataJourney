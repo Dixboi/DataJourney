{
  "nbformat": 4,
  "nbformat_minor": 0,
  "metadata": {
    "colab": {
      "name": "credit_risk_customer_notebook.ipynb",
      "provenance": []
    },
    "kernelspec": {
      "name": "python3",
      "display_name": "Python 3"
    },
    "language_info": {
      "name": "python"
    }
  },
  "cells": [
    {
      "cell_type": "markdown",
      "source": [
        "#Step 1: Imports"
      ],
      "metadata": {
        "id": "ZzrHfJHeeSrL"
      }
    },
    {
      "cell_type": "code",
      "execution_count": null,
      "metadata": {
        "id": "a96bnnyvdC8S"
      },
      "outputs": [],
      "source": [
        "# Core libraries\n",
        "import numpy as np\n",
        "import pandas as pd\n",
        "pd.set_option('display.max_columns', None)\n",
        "pd.set_option('display.max_rows',None)\n",
        "\n",
        "# Plotting\n",
        "import matplotlib.pyplot as plt\n",
        "%matplotlib inline\n",
        "import seaborn as sns\n",
        "sns.set(style='darkgrid', font_scale=1.4)\n",
        "import plotly.express as px\n",
        "\n",
        "# Still don't know but looks useful\n",
        "import warnings\n",
        "warnings.filterwarnings('ignore')\n",
        "\n",
        "from sklearn.linear_model import LinearRegression, LogisticRegression\n",
        "from sklearn.pipeline import make_pipeline\n",
        "from sklearn.preprocessing import StandardScaler\n",
        "from sklearn.model_selection import train_test_split"
      ]
    },
    {
      "cell_type": "markdown",
      "source": [
        "#Step 2: Data"
      ],
      "metadata": {
        "id": "LEXwKoBFe4ox"
      }
    },
    {
      "cell_type": "markdown",
      "source": [
        "####Load Data"
      ],
      "metadata": {
        "id": "72sdkarVfD5v"
      }
    },
    {
      "cell_type": "code",
      "source": [
        "data = pd.read_csv('credit_risk_customer_data.csv')\n",
        "\n",
        "# Preview of dataset\n",
        "print('Shape of dataframe:', data.shape)\n",
        "data.head()"
      ],
      "metadata": {
        "colab": {
          "base_uri": "https://localhost:8080/",
          "height": 224
        },
        "id": "qLoVUDI1fHup",
        "outputId": "858dd092-4c5f-4e83-9234-1309bef601fe"
      },
      "execution_count": null,
      "outputs": [
        {
          "output_type": "stream",
          "name": "stdout",
          "text": [
            "Shape of dataframe: (1125, 13)\n"
          ]
        },
        {
          "output_type": "execute_result",
          "data": {
            "text/plain": [
              "   label        id  fea_1   fea_2  fea_3     fea_4  fea_5  fea_6  fea_7  \\\n",
              "0      1  54982665      5  1245.5      3   77000.0      2     15      5   \n",
              "1      0  59004779      4  1277.0      1  113000.0      2      8     -1   \n",
              "2      0  58990862      7  1298.0      1  110000.0      2     11     -1   \n",
              "3      1  58995168      7  1335.5      1  151000.0      2     11      5   \n",
              "4      0  54987320      7     NaN      2   59000.0      2     11      5   \n",
              "\n",
              "   fea_8  fea_9  fea_10      fea_11  \n",
              "0    109      5  151300  244.948974  \n",
              "1    100      3  341759  207.173840  \n",
              "2    101      5   72001    1.000000  \n",
              "3    110      3   60084    1.000000  \n",
              "4    108      4  450081  197.403141  "
            ],
            "text/html": [
              "\n",
              "  <div id=\"df-67a024cc-6479-4e52-88a3-304257fa92a1\">\n",
              "    <div class=\"colab-df-container\">\n",
              "      <div>\n",
              "<style scoped>\n",
              "    .dataframe tbody tr th:only-of-type {\n",
              "        vertical-align: middle;\n",
              "    }\n",
              "\n",
              "    .dataframe tbody tr th {\n",
              "        vertical-align: top;\n",
              "    }\n",
              "\n",
              "    .dataframe thead th {\n",
              "        text-align: right;\n",
              "    }\n",
              "</style>\n",
              "<table border=\"1\" class=\"dataframe\">\n",
              "  <thead>\n",
              "    <tr style=\"text-align: right;\">\n",
              "      <th></th>\n",
              "      <th>label</th>\n",
              "      <th>id</th>\n",
              "      <th>fea_1</th>\n",
              "      <th>fea_2</th>\n",
              "      <th>fea_3</th>\n",
              "      <th>fea_4</th>\n",
              "      <th>fea_5</th>\n",
              "      <th>fea_6</th>\n",
              "      <th>fea_7</th>\n",
              "      <th>fea_8</th>\n",
              "      <th>fea_9</th>\n",
              "      <th>fea_10</th>\n",
              "      <th>fea_11</th>\n",
              "    </tr>\n",
              "  </thead>\n",
              "  <tbody>\n",
              "    <tr>\n",
              "      <th>0</th>\n",
              "      <td>1</td>\n",
              "      <td>54982665</td>\n",
              "      <td>5</td>\n",
              "      <td>1245.5</td>\n",
              "      <td>3</td>\n",
              "      <td>77000.0</td>\n",
              "      <td>2</td>\n",
              "      <td>15</td>\n",
              "      <td>5</td>\n",
              "      <td>109</td>\n",
              "      <td>5</td>\n",
              "      <td>151300</td>\n",
              "      <td>244.948974</td>\n",
              "    </tr>\n",
              "    <tr>\n",
              "      <th>1</th>\n",
              "      <td>0</td>\n",
              "      <td>59004779</td>\n",
              "      <td>4</td>\n",
              "      <td>1277.0</td>\n",
              "      <td>1</td>\n",
              "      <td>113000.0</td>\n",
              "      <td>2</td>\n",
              "      <td>8</td>\n",
              "      <td>-1</td>\n",
              "      <td>100</td>\n",
              "      <td>3</td>\n",
              "      <td>341759</td>\n",
              "      <td>207.173840</td>\n",
              "    </tr>\n",
              "    <tr>\n",
              "      <th>2</th>\n",
              "      <td>0</td>\n",
              "      <td>58990862</td>\n",
              "      <td>7</td>\n",
              "      <td>1298.0</td>\n",
              "      <td>1</td>\n",
              "      <td>110000.0</td>\n",
              "      <td>2</td>\n",
              "      <td>11</td>\n",
              "      <td>-1</td>\n",
              "      <td>101</td>\n",
              "      <td>5</td>\n",
              "      <td>72001</td>\n",
              "      <td>1.000000</td>\n",
              "    </tr>\n",
              "    <tr>\n",
              "      <th>3</th>\n",
              "      <td>1</td>\n",
              "      <td>58995168</td>\n",
              "      <td>7</td>\n",
              "      <td>1335.5</td>\n",
              "      <td>1</td>\n",
              "      <td>151000.0</td>\n",
              "      <td>2</td>\n",
              "      <td>11</td>\n",
              "      <td>5</td>\n",
              "      <td>110</td>\n",
              "      <td>3</td>\n",
              "      <td>60084</td>\n",
              "      <td>1.000000</td>\n",
              "    </tr>\n",
              "    <tr>\n",
              "      <th>4</th>\n",
              "      <td>0</td>\n",
              "      <td>54987320</td>\n",
              "      <td>7</td>\n",
              "      <td>NaN</td>\n",
              "      <td>2</td>\n",
              "      <td>59000.0</td>\n",
              "      <td>2</td>\n",
              "      <td>11</td>\n",
              "      <td>5</td>\n",
              "      <td>108</td>\n",
              "      <td>4</td>\n",
              "      <td>450081</td>\n",
              "      <td>197.403141</td>\n",
              "    </tr>\n",
              "  </tbody>\n",
              "</table>\n",
              "</div>\n",
              "      <button class=\"colab-df-convert\" onclick=\"convertToInteractive('df-67a024cc-6479-4e52-88a3-304257fa92a1')\"\n",
              "              title=\"Convert this dataframe to an interactive table.\"\n",
              "              style=\"display:none;\">\n",
              "        \n",
              "  <svg xmlns=\"http://www.w3.org/2000/svg\" height=\"24px\"viewBox=\"0 0 24 24\"\n",
              "       width=\"24px\">\n",
              "    <path d=\"M0 0h24v24H0V0z\" fill=\"none\"/>\n",
              "    <path d=\"M18.56 5.44l.94 2.06.94-2.06 2.06-.94-2.06-.94-.94-2.06-.94 2.06-2.06.94zm-11 1L8.5 8.5l.94-2.06 2.06-.94-2.06-.94L8.5 2.5l-.94 2.06-2.06.94zm10 10l.94 2.06.94-2.06 2.06-.94-2.06-.94-.94-2.06-.94 2.06-2.06.94z\"/><path d=\"M17.41 7.96l-1.37-1.37c-.4-.4-.92-.59-1.43-.59-.52 0-1.04.2-1.43.59L10.3 9.45l-7.72 7.72c-.78.78-.78 2.05 0 2.83L4 21.41c.39.39.9.59 1.41.59.51 0 1.02-.2 1.41-.59l7.78-7.78 2.81-2.81c.8-.78.8-2.07 0-2.86zM5.41 20L4 18.59l7.72-7.72 1.47 1.35L5.41 20z\"/>\n",
              "  </svg>\n",
              "      </button>\n",
              "      \n",
              "  <style>\n",
              "    .colab-df-container {\n",
              "      display:flex;\n",
              "      flex-wrap:wrap;\n",
              "      gap: 12px;\n",
              "    }\n",
              "\n",
              "    .colab-df-convert {\n",
              "      background-color: #E8F0FE;\n",
              "      border: none;\n",
              "      border-radius: 50%;\n",
              "      cursor: pointer;\n",
              "      display: none;\n",
              "      fill: #1967D2;\n",
              "      height: 32px;\n",
              "      padding: 0 0 0 0;\n",
              "      width: 32px;\n",
              "    }\n",
              "\n",
              "    .colab-df-convert:hover {\n",
              "      background-color: #E2EBFA;\n",
              "      box-shadow: 0px 1px 2px rgba(60, 64, 67, 0.3), 0px 1px 3px 1px rgba(60, 64, 67, 0.15);\n",
              "      fill: #174EA6;\n",
              "    }\n",
              "\n",
              "    [theme=dark] .colab-df-convert {\n",
              "      background-color: #3B4455;\n",
              "      fill: #D2E3FC;\n",
              "    }\n",
              "\n",
              "    [theme=dark] .colab-df-convert:hover {\n",
              "      background-color: #434B5C;\n",
              "      box-shadow: 0px 1px 3px 1px rgba(0, 0, 0, 0.15);\n",
              "      filter: drop-shadow(0px 1px 2px rgba(0, 0, 0, 0.3));\n",
              "      fill: #FFFFFF;\n",
              "    }\n",
              "  </style>\n",
              "\n",
              "      <script>\n",
              "        const buttonEl =\n",
              "          document.querySelector('#df-67a024cc-6479-4e52-88a3-304257fa92a1 button.colab-df-convert');\n",
              "        buttonEl.style.display =\n",
              "          google.colab.kernel.accessAllowed ? 'block' : 'none';\n",
              "\n",
              "        async function convertToInteractive(key) {\n",
              "          const element = document.querySelector('#df-67a024cc-6479-4e52-88a3-304257fa92a1');\n",
              "          const dataTable =\n",
              "            await google.colab.kernel.invokeFunction('convertToInteractive',\n",
              "                                                     [key], {});\n",
              "          if (!dataTable) return;\n",
              "\n",
              "          const docLinkHtml = 'Like what you see? Visit the ' +\n",
              "            '<a target=\"_blank\" href=https://colab.research.google.com/notebooks/data_table.ipynb>data table notebook</a>'\n",
              "            + ' to learn more about interactive tables.';\n",
              "          element.innerHTML = '';\n",
              "          dataTable['output_type'] = 'display_data';\n",
              "          await google.colab.output.renderOutput(dataTable, element);\n",
              "          const docLink = document.createElement('div');\n",
              "          docLink.innerHTML = docLinkHtml;\n",
              "          element.appendChild(docLink);\n",
              "        }\n",
              "      </script>\n",
              "    </div>\n",
              "  </div>\n",
              "  "
            ]
          },
          "metadata": {},
          "execution_count": 298
        }
      ]
    },
    {
      "cell_type": "markdown",
      "source": [
        "####Available Columns"
      ],
      "metadata": {
        "id": "Y-YJgzcdflcf"
      }
    },
    {
      "cell_type": "code",
      "source": [
        "data.columns"
      ],
      "metadata": {
        "colab": {
          "base_uri": "https://localhost:8080/"
        },
        "id": "nLLXg2oWfoFv",
        "outputId": "6e4b8b82-6356-4a30-fe12-ba8f8c59b995"
      },
      "execution_count": null,
      "outputs": [
        {
          "output_type": "execute_result",
          "data": {
            "text/plain": [
              "Index(['label', 'id', 'fea_1', 'fea_2', 'fea_3', 'fea_4', 'fea_5', 'fea_6',\n",
              "       'fea_7', 'fea_8', 'fea_9', 'fea_10', 'fea_11'],\n",
              "      dtype='object')"
            ]
          },
          "metadata": {},
          "execution_count": 299
        }
      ]
    },
    {
      "cell_type": "markdown",
      "source": [
        "####Checking for Missing Values"
      ],
      "metadata": {
        "id": "-rF8NPdofzGh"
      }
    },
    {
      "cell_type": "code",
      "source": [
        "print('MISSING VALUES')\n",
        "print(data.isna().sum())"
      ],
      "metadata": {
        "colab": {
          "base_uri": "https://localhost:8080/"
        },
        "id": "fvrgUFfLf1TB",
        "outputId": "053a2a64-f258-45f2-be9d-7013c064dd8b"
      },
      "execution_count": null,
      "outputs": [
        {
          "output_type": "stream",
          "name": "stdout",
          "text": [
            "MISSING VALUES\n",
            "label       0\n",
            "id          0\n",
            "fea_1       0\n",
            "fea_2     149\n",
            "fea_3       0\n",
            "fea_4       0\n",
            "fea_5       0\n",
            "fea_6       0\n",
            "fea_7       0\n",
            "fea_8       0\n",
            "fea_9       0\n",
            "fea_10      0\n",
            "fea_11      0\n",
            "dtype: int64\n"
          ]
        }
      ]
    },
    {
      "cell_type": "markdown",
      "source": [
        "####Checking for Duplicates"
      ],
      "metadata": {
        "id": "6_Aa7LHrg0N-"
      }
    },
    {
      "cell_type": "code",
      "source": [
        "print(f'Duplicates in train set: {data.duplicated().sum()}')"
      ],
      "metadata": {
        "colab": {
          "base_uri": "https://localhost:8080/"
        },
        "id": "Y5dh8Fk4g6kU",
        "outputId": "47c001f3-0f21-48b7-c7dd-e11bb8a9d0cc"
      },
      "execution_count": null,
      "outputs": [
        {
          "output_type": "stream",
          "name": "stdout",
          "text": [
            "Duplicates in train set: 0\n"
          ]
        }
      ]
    },
    {
      "cell_type": "markdown",
      "source": [
        "####Cardinality of Features"
      ],
      "metadata": {
        "id": "StHLpcS9hNpw"
      }
    },
    {
      "cell_type": "code",
      "source": [
        "data.nunique()"
      ],
      "metadata": {
        "colab": {
          "base_uri": "https://localhost:8080/"
        },
        "id": "GlRjE5XehSIS",
        "outputId": "efce288e-50f4-4ad8-a049-620c9fe341ca"
      },
      "execution_count": null,
      "outputs": [
        {
          "output_type": "execute_result",
          "data": {
            "text/plain": [
              "label        2\n",
              "id        1125\n",
              "fea_1        6\n",
              "fea_2      158\n",
              "fea_3        3\n",
              "fea_4      229\n",
              "fea_5        2\n",
              "fea_6       10\n",
              "fea_7       10\n",
              "fea_8       52\n",
              "fea_9        5\n",
              "fea_10     280\n",
              "fea_11     266\n",
              "dtype: int64"
            ]
          },
          "metadata": {},
          "execution_count": 302
        }
      ]
    },
    {
      "cell_type": "markdown",
      "source": [
        "label: Target column <br>\n",
        "id: Descriptive <br>\n",
        "fea_1: Categorical<br>\n",
        "fea_2: Continuous<br>\n",
        "fea_3: Categorical<br>\n",
        "fea_4: Continuous<br>\n",
        "fea_5: Categorical<br>\n",
        "fea_6: Categorical<br>\n",
        "fea_7: Categorical<br>\n",
        "fea_8: Continuous<br>\n",
        "fea_9: Categorical<br>\n",
        "fea_10: Continuous<br>\n",
        "fea_11: Continuous<br>\n"
      ],
      "metadata": {
        "id": "tRBVESvWiDty"
      }
    },
    {
      "cell_type": "code",
      "source": [
        "cont_feat = ['fea_2', 'fea_4', 'fea_8', 'fea_10', 'fea_11']\n",
        "cat_feat = ['fea_1', 'fea_3', 'fea_5', 'fea_6', 'fea_7', 'fea_9']"
      ],
      "metadata": {
        "id": "gl5ONlg-nbVu"
      },
      "execution_count": null,
      "outputs": []
    },
    {
      "cell_type": "markdown",
      "source": [
        "####Data Types of Features"
      ],
      "metadata": {
        "id": "k2WqMIfTjvdo"
      }
    },
    {
      "cell_type": "code",
      "source": [
        "data.dtypes"
      ],
      "metadata": {
        "colab": {
          "base_uri": "https://localhost:8080/"
        },
        "id": "M3hf75Zejq8e",
        "outputId": "01e96f55-42f8-4711-cf66-6780c9b2f965"
      },
      "execution_count": null,
      "outputs": [
        {
          "output_type": "execute_result",
          "data": {
            "text/plain": [
              "label       int64\n",
              "id          int64\n",
              "fea_1       int64\n",
              "fea_2     float64\n",
              "fea_3       int64\n",
              "fea_4     float64\n",
              "fea_5       int64\n",
              "fea_6       int64\n",
              "fea_7       int64\n",
              "fea_8       int64\n",
              "fea_9       int64\n",
              "fea_10      int64\n",
              "fea_11    float64\n",
              "dtype: object"
            ]
          },
          "metadata": {},
          "execution_count": 304
        }
      ]
    },
    {
      "cell_type": "markdown",
      "source": [
        "#Step 3: Exploratory Data Analysis"
      ],
      "metadata": {
        "id": "yi6qBjOHkAHW"
      }
    },
    {
      "cell_type": "markdown",
      "source": [
        "####Checking for Target Distribution"
      ],
      "metadata": {
        "id": "Re-zllTjkFTU"
      }
    },
    {
      "cell_type": "code",
      "source": [
        "# Figure size\n",
        "plt.figure(figsize=(6,6))\n",
        "\n",
        "# Pie plot\n",
        "data['label'].value_counts().plot.pie(explode=[0.1,0.1], autopct='%1.1f%%').set_title(\"Target distribution\")\n",
        "\n",
        "count_category = data.label.value_counts(dropna=False,)\n",
        "count_category"
      ],
      "metadata": {
        "colab": {
          "base_uri": "https://localhost:8080/"
        },
        "id": "_M9RqAy2kJh4",
        "outputId": "870d22cb-2928-4df8-e89d-2c4c0454d6da"
      },
      "execution_count": null,
      "outputs": [
        {
          "output_type": "execute_result",
          "data": {
            "text/plain": [
              "0    900\n",
              "1    225\n",
              "Name: label, dtype: int64"
            ]
          },
          "metadata": {},
          "execution_count": 305
        },
        {
          "output_type": "display_data",
          "data": {
            "text/plain": [
              "<Figure size 432x432 with 1 Axes>"
            ],
            "image/png": "[encoded data removed]"
          },
          "metadata": {}
        }
      ]
    },
    {
      "cell_type": "markdown",
      "source": [
        "####Balancing the Target Distribution"
      ],
      "metadata": {
        "id": "ArL-Zz8CmyqG"
      }
    },
    {
      "cell_type": "code",
      "source": [
        "def sampling_k_elements(f, k=225):\n",
        "    if len(f) < k:\n",
        "        return f\n",
        "    return f.sample(k)\n",
        "\n",
        "balanced = data.groupby('label').apply(sampling_k_elements).reset_index(drop=True)"
      ],
      "metadata": {
        "id": "dNo2ZFwAlSk9"
      },
      "execution_count": null,
      "outputs": []
    },
    {
      "cell_type": "code",
      "source": [
        "count_balanced = balanced.label.value_counts(dropna=False,)\n",
        "count_balanced"
      ],
      "metadata": {
        "colab": {
          "base_uri": "https://localhost:8080/"
        },
        "id": "yEfMqWwymLYX",
        "outputId": "37f2c13b-4275-4319-bdcb-23671bbbbd1e"
      },
      "execution_count": null,
      "outputs": [
        {
          "output_type": "execute_result",
          "data": {
            "text/plain": [
              "0    225\n",
              "1    225\n",
              "Name: label, dtype: int64"
            ]
          },
          "metadata": {},
          "execution_count": 307
        }
      ]
    },
    {
      "cell_type": "code",
      "source": [
        "balanced.shape"
      ],
      "metadata": {
        "colab": {
          "base_uri": "https://localhost:8080/"
        },
        "id": "TEuu5hHvmQqL",
        "outputId": "775003fb-a860-4f3f-b022-5741ef39257d"
      },
      "execution_count": null,
      "outputs": [
        {
          "output_type": "execute_result",
          "data": {
            "text/plain": [
              "(450, 13)"
            ]
          },
          "metadata": {},
          "execution_count": 308
        }
      ]
    },
    {
      "cell_type": "code",
      "source": [
        "# Figure size\n",
        "plt.figure(figsize=(6,6))\n",
        "\n",
        "# Pie plot\n",
        "balanced['label'].value_counts().plot.pie(explode=[0.1,0.1], autopct='%1.1f%%').set_title(\"Target distribution\")"
      ],
      "metadata": {
        "colab": {
          "base_uri": "https://localhost:8080/"
        },
        "id": "YQY0kPutmh49",
        "outputId": "cfa689e2-917c-4841-c019-a765aa839e1a"
      },
      "execution_count": null,
      "outputs": [
        {
          "output_type": "execute_result",
          "data": {
            "text/plain": [
              "Text(0.5, 1.0, 'Target distribution')"
            ]
          },
          "metadata": {},
          "execution_count": 309
        },
        {
          "output_type": "display_data",
          "data": {
            "text/plain": [
              "<Figure size 432x432 with 1 Axes>"
            ],
            "image/png": "[encoded data removed]"
          },
          "metadata": {}
        }
      ]
    },
    {
      "cell_type": "markdown",
      "source": [
        "####Exploring Continuous Features"
      ],
      "metadata": {
        "id": "_iv9oNiBnCvN"
      }
    },
    {
      "cell_type": "code",
      "source": [
        "fig=plt.figure(figsize=(25, 50))\n",
        "for i, var_name in enumerate(cont_feat):\n",
        "    ax=fig.add_subplot(len(cont_feat),2,2*i+1)\n",
        "    sns.histplot(data=balanced, x=var_name, axes=ax, bins=30, kde=False, hue='label')\n",
        "    ax.set_title(var_name)"
      ],
      "metadata": {
        "colab": {
          "base_uri": "https://localhost:8080/"
        },
        "id": "4w1jyBK5pqaY",
        "outputId": "82ff5bfe-c977-4732-ac69-6990939aca6c"
      },
      "execution_count": null,
      "outputs": [
        {
          "output_type": "display_data",
          "data": {
            "text/plain": [
              "<Figure size 1800x3600 with 5 Axes>"
            ],
            "image/png": "[encoded data removed]"
          },
          "metadata": {}
        }
      ]
    },
    {
      "cell_type": "markdown",
      "source": [
        "**Notes**:\n",
        "\n",
        "\n",
        "*  `fea_2` : 1265>=x is most probably 1 and 1265<x is most probably 0\n",
        "*  `fea_4` : 75000>=x is most probably 1 and 75000<x is most probably \n",
        "*  `fea_8` : looks evenly distributed\n",
        "*  `fea_10` : 300000>=x and x>=400000 most probably 0 and 300000<x and x<400000 most probably 1\n",
        "*  `fea_11` : 0 is most probably 0 and not 0 is most probably 1\n",
        "\n",
        "**Insights**:\n",
        "\n",
        "*  Create a new feature based on `fea_2` which is `less_1265`\n",
        "*  Create a new feature based on `fea_4` which is `less_75000`\n",
        "*  Drop `fea_8`\n",
        "*  Create a new feature based on `fea_10` which is `between_3n4`\n",
        "*  Create a new feature based on `fea_11` which is `not_0`\n",
        "*  Take Log Transform to reduce skew \n",
        "\n",
        "\n"
      ],
      "metadata": {
        "id": "UubktUJopAWS"
      }
    },
    {
      "cell_type": "markdown",
      "source": [
        "####Exploring Categorical Values"
      ],
      "metadata": {
        "id": "nHzKtYgnq6CQ"
      }
    },
    {
      "cell_type": "code",
      "source": [
        "# Plot categorical features\n",
        "fig=plt.figure(figsize=(15,15))\n",
        "for i, var_name in enumerate(cat_feat):\n",
        "    ax=fig.add_subplot(len(cat_feat),1,i+1)\n",
        "    sns.countplot(data=balanced, x=var_name, axes=ax, hue='label')\n",
        "    ax.set_title(var_name)\n",
        "fig.tight_layout()  # Improves appearance a bit\n",
        "plt.show()"
      ],
      "metadata": {
        "colab": {
          "base_uri": "https://localhost:8080/"
        },
        "id": "hGb5PtMsq-K_",
        "outputId": "5fd69de0-baaa-4a8c-8fcb-fb33731c537c"
      },
      "execution_count": null,
      "outputs": [
        {
          "output_type": "display_data",
          "data": {
            "text/plain": [
              "<Figure size 1080x1080 with 6 Axes>"
            ],
            "image/png": "[encoded data removed]"
          },
          "metadata": {}
        }
      ]
    },
    {
      "cell_type": "markdown",
      "source": [
        "**Notes**:\n",
        "*  `fea_1` : 5 and 7 is most probably 1; 4 is most probably 0; 1, 2, and 6 is evenly distributed\n",
        "*  `fea_3` : 1 is most probably 0; 2 is most probably 1;3 is evenly distributed\n",
        "*  `fea_5` : evenly distributed\n",
        "*  `fea_6` : 11 and 15 is most probably 1; 4 and 8 is most probably 0; 3, 5, 6, 9, 12 is evenly distributed\n",
        "*  `fea_7` : 4, 8, 9 is 0; 5 is 1; -1, 2, 3, 7 is evenly distributed\n",
        "*  `fea_9` : evenly distributed\n",
        "\n",
        "**Insights**:\n",
        "*  Compress all values of all features into smaller groups except for the evenly distributed ones\n",
        "*  Drop `fea_5` and `fea_9`"
      ],
      "metadata": {
        "id": "RBnlzKOGsALW"
      }
    },
    {
      "cell_type": "markdown",
      "source": [
        "#Step 4: Feature Engineering"
      ],
      "metadata": {
        "id": "HZIFR6mLuBsQ"
      }
    },
    {
      "cell_type": "markdown",
      "source": [
        "####fea_1\n",
        "5 and 7 is most probably 1; 4 is most probably 0; 1, 2, and 6 is evenly distributed"
      ],
      "metadata": {
        "id": "3g7ifZFhm5ri"
      }
    },
    {
      "cell_type": "code",
      "source": [
        "balanced.loc[balanced['fea_1']==4, 'fea_1'] = '0'\n",
        "balanced.loc[balanced['fea_1']==5, 'fea_1'] = '1'\n",
        "balanced.loc[balanced['fea_1']==7, 'fea_1'] = '1'\n",
        "balanced.loc[balanced['fea_1']==1, 'fea_1'] = '2'\n",
        "balanced.loc[balanced['fea_1']==2, 'fea_1'] = '2'\n",
        "balanced.loc[balanced['fea_1']==6, 'fea_1'] = '2'\n",
        "balanced['fea_1'] = balanced['fea_1'].astype(dtype=int)"
      ],
      "metadata": {
        "id": "k9uHARTUm-DK"
      },
      "execution_count": null,
      "outputs": []
    },
    {
      "cell_type": "markdown",
      "source": [
        "####fea_2\n",
        "1265>=x is most probably 1 and 1265<x is most probably 0"
      ],
      "metadata": {
        "id": "PTnt9PYRtddY"
      }
    },
    {
      "cell_type": "code",
      "source": [
        "balanced['less_1265'] = np.nan\n",
        "balanced.loc[balanced['fea_2']<=1265, 'less_1265'] = 1\n",
        "balanced.loc[balanced['fea_2']>1265, 'less_1265'] = 0"
      ],
      "metadata": {
        "id": "SufoyJbHtvKk"
      },
      "execution_count": null,
      "outputs": []
    },
    {
      "cell_type": "markdown",
      "source": [
        "####fea_3\n",
        "1 is most probably 0; 2 is most probably 1; 3 is evenly distributed"
      ],
      "metadata": {
        "id": "Q91w5_05u4Wg"
      }
    },
    {
      "cell_type": "code",
      "source": [
        "balanced.loc[balanced['fea_3']==1, 'fea_3'] = '0'\n",
        "balanced.loc[balanced['fea_3']==2, 'fea_3'] = '1'\n",
        "balanced.loc[balanced['fea_3']==3, 'fea_3'] = '2'\n",
        "balanced['fea_3'] = balanced['fea_3'].astype(dtype=int)"
      ],
      "metadata": {
        "id": "LxcKp_vcvIbg"
      },
      "execution_count": null,
      "outputs": []
    },
    {
      "cell_type": "markdown",
      "source": [
        "####fea_4\n",
        "75000>=x is most probably 1 and 75000<x is most probably "
      ],
      "metadata": {
        "id": "KMovR3Stvwxh"
      }
    },
    {
      "cell_type": "code",
      "source": [
        "balanced['less_75000'] = np.nan\n",
        "balanced.loc[balanced['fea_4']<=75000, 'less_75000'] = 1\n",
        "balanced.loc[balanced['fea_4']>75000, 'less_75000'] = 0"
      ],
      "metadata": {
        "id": "Z4fXuQLpv3T1"
      },
      "execution_count": null,
      "outputs": []
    },
    {
      "cell_type": "markdown",
      "source": [
        "####fea_5\n",
        "evenly distributed"
      ],
      "metadata": {
        "id": "miNVVdqwwT0k"
      }
    },
    {
      "cell_type": "code",
      "source": [
        "balanced.drop('fea_5', axis=1, inplace=True)"
      ],
      "metadata": {
        "id": "s_mD51FewkpV"
      },
      "execution_count": null,
      "outputs": []
    },
    {
      "cell_type": "markdown",
      "source": [
        "####fea_6\n",
        "11 and 15 is most probably 1; 4 and 8 is most probably 0; 3, 5, 6, 9, 12 is evenly distributed"
      ],
      "metadata": {
        "id": "s0FeX3Etw1XI"
      }
    },
    {
      "cell_type": "code",
      "source": [
        "balanced.loc[balanced['fea_6']==4, 'fea_6'] = '0'\n",
        "balanced.loc[balanced['fea_6']==8, 'fea_6'] = '0'\n",
        "balanced.loc[balanced['fea_6']==11, 'fea_6'] = '1'\n",
        "balanced.loc[balanced['fea_6']==15, 'fea_6'] = '1'\n",
        "balanced.loc[balanced['fea_6']==3, 'fea_6'] = '2'\n",
        "balanced.loc[balanced['fea_6']==5, 'fea_6'] = '2'\n",
        "balanced.loc[balanced['fea_6']==6, 'fea_6'] = '2'\n",
        "balanced.loc[balanced['fea_6']==9, 'fea_6'] = '2'\n",
        "balanced.loc[balanced['fea_6']==12, 'fea_6'] = '2'\n",
        "balanced['fea_6'] = balanced['fea_6'].astype(dtype=int)"
      ],
      "metadata": {
        "id": "1HBrHYfUxy1y"
      },
      "execution_count": null,
      "outputs": []
    },
    {
      "cell_type": "markdown",
      "source": [
        "####fea_7\n",
        "4, 8, 9 is 0; 5 is 1; -1, 2, 3, 7 is evenly distributed"
      ],
      "metadata": {
        "id": "yaSkUehRyUI2"
      }
    },
    {
      "cell_type": "code",
      "source": [
        "balanced.loc[balanced['fea_7']==4, 'fea_7'] = '0'\n",
        "balanced.loc[balanced['fea_7']==8, 'fea_7'] = '0'\n",
        "balanced.loc[balanced['fea_7']==9, 'fea_7'] = '0'\n",
        "balanced.loc[balanced['fea_7']==5, 'fea_7'] = '1'\n",
        "balanced.loc[balanced['fea_7']==-1, 'fea_7'] = '2'\n",
        "balanced.loc[balanced['fea_7']==2, 'fea_7'] = '2'\n",
        "balanced.loc[balanced['fea_7']==3, 'fea_7'] = '2'\n",
        "balanced.loc[balanced['fea_7']==7, 'fea_7'] = '2'\n",
        "balanced['fea_7'] = balanced['fea_7'].astype(dtype=int)"
      ],
      "metadata": {
        "id": "xeFRotFdy-BX"
      },
      "execution_count": null,
      "outputs": []
    },
    {
      "cell_type": "markdown",
      "source": [
        "####fea_8\n",
        "evenly distributed"
      ],
      "metadata": {
        "id": "ulScoE9ozU9v"
      }
    },
    {
      "cell_type": "code",
      "source": [
        "balanced.drop('fea_8', axis=1, inplace=True)"
      ],
      "metadata": {
        "id": "EwXekIz8z7WY"
      },
      "execution_count": null,
      "outputs": []
    },
    {
      "cell_type": "markdown",
      "source": [
        "####fea_9\n",
        "evenly distributed"
      ],
      "metadata": {
        "id": "JSAlUqDs0APt"
      }
    },
    {
      "cell_type": "code",
      "source": [
        "balanced.drop('fea_9', axis=1, inplace=True)"
      ],
      "metadata": {
        "id": "mgoPmdKD0C34"
      },
      "execution_count": null,
      "outputs": []
    },
    {
      "cell_type": "markdown",
      "source": [
        "####fea_10\n",
        "300000>=x and x>=400000 most probably 0 and 300000<x and x<400000 most probably 1"
      ],
      "metadata": {
        "id": "bHyAh_DX0Ps5"
      }
    },
    {
      "cell_type": "code",
      "source": [
        "balanced['between_3n4'] = np.nan\n",
        "balanced.loc[(balanced['fea_10']>300000) & (balanced['fea_10']<400000), 'between_3n4'] = 1\n",
        "balanced.loc[balanced['fea_10']<=300000, 'between_3n4'] = 0\n",
        "balanced.loc[balanced['fea_10']>=400000, 'between_3n4'] = 0"
      ],
      "metadata": {
        "id": "F1jfwgOo0Rpn"
      },
      "execution_count": null,
      "outputs": []
    },
    {
      "cell_type": "markdown",
      "source": [
        "####fea_11\n",
        "0 is most probably 0 and not 0 is most probably 1"
      ],
      "metadata": {
        "id": "Nxgpvjq82lB_"
      }
    },
    {
      "cell_type": "code",
      "source": [
        "balanced['not_0'] = np.nan\n",
        "balanced.loc[balanced['fea_11']!=0, 'not_0'] = 1\n",
        "balanced.loc[balanced['fea_11']==0, 'not_0'] = 0"
      ],
      "metadata": {
        "id": "gU7yYOgr2tYw"
      },
      "execution_count": null,
      "outputs": []
    },
    {
      "cell_type": "code",
      "source": [
        "balanced.head()"
      ],
      "metadata": {
        "colab": {
          "base_uri": "https://localhost:8080/"
        },
        "id": "DkpAG5_s2_El",
        "outputId": "5ce58890-f74f-4f15-d8c5-303f8c260705"
      },
      "execution_count": null,
      "outputs": [
        {
          "output_type": "execute_result",
          "data": {
            "text/plain": [
              "   label        id  fea_1   fea_2  fea_3     fea_4  fea_6  fea_7  fea_10  \\\n",
              "0      0  58997607      0  1268.0      0  118000.0      0      2  330006   \n",
              "1      0  58985486      1  1298.0      2  149000.0      1      1  510069   \n",
              "2      0  58992134      1  1235.0      0  114000.0      1      2  450088   \n",
              "3      0  54988258      1  1320.5      0  119000.0      1      1   60043   \n",
              "4      0  59003950      0  1263.5      0  102000.0      0      0   60024   \n",
              "\n",
              "       fea_11  less_1265  less_75000  between_3n4  not_0  \n",
              "0    1.000000        0.0         0.0          1.0    1.0  \n",
              "1  222.551118        0.0         0.0          0.0    1.0  \n",
              "2    1.000000        1.0         0.0          0.0    1.0  \n",
              "3  212.132034        0.0         0.0          0.0    1.0  \n",
              "4  200.000000        1.0         0.0          0.0    1.0  "
            ],
            "text/html": [
              "\n",
              "  <div id=\"df-800481b3-3d1e-493e-bb2e-973909ca3d70\">\n",
              "    <div class=\"colab-df-container\">\n",
              "      <div>\n",
              "<style scoped>\n",
              "    .dataframe tbody tr th:only-of-type {\n",
              "        vertical-align: middle;\n",
              "    }\n",
              "\n",
              "    .dataframe tbody tr th {\n",
              "        vertical-align: top;\n",
              "    }\n",
              "\n",
              "    .dataframe thead th {\n",
              "        text-align: right;\n",
              "    }\n",
              "</style>\n",
              "<table border=\"1\" class=\"dataframe\">\n",
              "  <thead>\n",
              "    <tr style=\"text-align: right;\">\n",
              "      <th></th>\n",
              "      <th>label</th>\n",
              "      <th>id</th>\n",
              "      <th>fea_1</th>\n",
              "      <th>fea_2</th>\n",
              "      <th>fea_3</th>\n",
              "      <th>fea_4</th>\n",
              "      <th>fea_6</th>\n",
              "      <th>fea_7</th>\n",
              "      <th>fea_10</th>\n",
              "      <th>fea_11</th>\n",
              "      <th>less_1265</th>\n",
              "      <th>less_75000</th>\n",
              "      <th>between_3n4</th>\n",
              "      <th>not_0</th>\n",
              "    </tr>\n",
              "  </thead>\n",
              "  <tbody>\n",
              "    <tr>\n",
              "      <th>0</th>\n",
              "      <td>0</td>\n",
              "      <td>58997607</td>\n",
              "      <td>0</td>\n",
              "      <td>1268.0</td>\n",
              "      <td>0</td>\n",
              "      <td>118000.0</td>\n",
              "      <td>0</td>\n",
              "      <td>2</td>\n",
              "      <td>330006</td>\n",
              "      <td>1.000000</td>\n",
              "      <td>0.0</td>\n",
              "      <td>0.0</td>\n",
              "      <td>1.0</td>\n",
              "      <td>1.0</td>\n",
              "    </tr>\n",
              "    <tr>\n",
              "      <th>1</th>\n",
              "      <td>0</td>\n",
              "      <td>58985486</td>\n",
              "      <td>1</td>\n",
              "      <td>1298.0</td>\n",
              "      <td>2</td>\n",
              "      <td>149000.0</td>\n",
              "      <td>1</td>\n",
              "      <td>1</td>\n",
              "      <td>510069</td>\n",
              "      <td>222.551118</td>\n",
              "      <td>0.0</td>\n",
              "      <td>0.0</td>\n",
              "      <td>0.0</td>\n",
              "      <td>1.0</td>\n",
              "    </tr>\n",
              "    <tr>\n",
              "      <th>2</th>\n",
              "      <td>0</td>\n",
              "      <td>58992134</td>\n",
              "      <td>1</td>\n",
              "      <td>1235.0</td>\n",
              "      <td>0</td>\n",
              "      <td>114000.0</td>\n",
              "      <td>1</td>\n",
              "      <td>2</td>\n",
              "      <td>450088</td>\n",
              "      <td>1.000000</td>\n",
              "      <td>1.0</td>\n",
              "      <td>0.0</td>\n",
              "      <td>0.0</td>\n",
              "      <td>1.0</td>\n",
              "    </tr>\n",
              "    <tr>\n",
              "      <th>3</th>\n",
              "      <td>0</td>\n",
              "      <td>54988258</td>\n",
              "      <td>1</td>\n",
              "      <td>1320.5</td>\n",
              "      <td>0</td>\n",
              "      <td>119000.0</td>\n",
              "      <td>1</td>\n",
              "      <td>1</td>\n",
              "      <td>60043</td>\n",
              "      <td>212.132034</td>\n",
              "      <td>0.0</td>\n",
              "      <td>0.0</td>\n",
              "      <td>0.0</td>\n",
              "      <td>1.0</td>\n",
              "    </tr>\n",
              "    <tr>\n",
              "      <th>4</th>\n",
              "      <td>0</td>\n",
              "      <td>59003950</td>\n",
              "      <td>0</td>\n",
              "      <td>1263.5</td>\n",
              "      <td>0</td>\n",
              "      <td>102000.0</td>\n",
              "      <td>0</td>\n",
              "      <td>0</td>\n",
              "      <td>60024</td>\n",
              "      <td>200.000000</td>\n",
              "      <td>1.0</td>\n",
              "      <td>0.0</td>\n",
              "      <td>0.0</td>\n",
              "      <td>1.0</td>\n",
              "    </tr>\n",
              "  </tbody>\n",
              "</table>\n",
              "</div>\n",
              "      <button class=\"colab-df-convert\" onclick=\"convertToInteractive('df-800481b3-3d1e-493e-bb2e-973909ca3d70')\"\n",
              "              title=\"Convert this dataframe to an interactive table.\"\n",
              "              style=\"display:none;\">\n",
              "        \n",
              "  <svg xmlns=\"http://www.w3.org/2000/svg\" height=\"24px\"viewBox=\"0 0 24 24\"\n",
              "       width=\"24px\">\n",
              "    <path d=\"M0 0h24v24H0V0z\" fill=\"none\"/>\n",
              "    <path d=\"M18.56 5.44l.94 2.06.94-2.06 2.06-.94-2.06-.94-.94-2.06-.94 2.06-2.06.94zm-11 1L8.5 8.5l.94-2.06 2.06-.94-2.06-.94L8.5 2.5l-.94 2.06-2.06.94zm10 10l.94 2.06.94-2.06 2.06-.94-2.06-.94-.94-2.06-.94 2.06-2.06.94z\"/><path d=\"M17.41 7.96l-1.37-1.37c-.4-.4-.92-.59-1.43-.59-.52 0-1.04.2-1.43.59L10.3 9.45l-7.72 7.72c-.78.78-.78 2.05 0 2.83L4 21.41c.39.39.9.59 1.41.59.51 0 1.02-.2 1.41-.59l7.78-7.78 2.81-2.81c.8-.78.8-2.07 0-2.86zM5.41 20L4 18.59l7.72-7.72 1.47 1.35L5.41 20z\"/>\n",
              "  </svg>\n",
              "      </button>\n",
              "      \n",
              "  <style>\n",
              "    .colab-df-container {\n",
              "      display:flex;\n",
              "      flex-wrap:wrap;\n",
              "      gap: 12px;\n",
              "    }\n",
              "\n",
              "    .colab-df-convert {\n",
              "      background-color: #E8F0FE;\n",
              "      border: none;\n",
              "      border-radius: 50%;\n",
              "      cursor: pointer;\n",
              "      display: none;\n",
              "      fill: #1967D2;\n",
              "      height: 32px;\n",
              "      padding: 0 0 0 0;\n",
              "      width: 32px;\n",
              "    }\n",
              "\n",
              "    .colab-df-convert:hover {\n",
              "      background-color: #E2EBFA;\n",
              "      box-shadow: 0px 1px 2px rgba(60, 64, 67, 0.3), 0px 1px 3px 1px rgba(60, 64, 67, 0.15);\n",
              "      fill: #174EA6;\n",
              "    }\n",
              "\n",
              "    [theme=dark] .colab-df-convert {\n",
              "      background-color: #3B4455;\n",
              "      fill: #D2E3FC;\n",
              "    }\n",
              "\n",
              "    [theme=dark] .colab-df-convert:hover {\n",
              "      background-color: #434B5C;\n",
              "      box-shadow: 0px 1px 3px 1px rgba(0, 0, 0, 0.15);\n",
              "      filter: drop-shadow(0px 1px 2px rgba(0, 0, 0, 0.3));\n",
              "      fill: #FFFFFF;\n",
              "    }\n",
              "  </style>\n",
              "\n",
              "      <script>\n",
              "        const buttonEl =\n",
              "          document.querySelector('#df-800481b3-3d1e-493e-bb2e-973909ca3d70 button.colab-df-convert');\n",
              "        buttonEl.style.display =\n",
              "          google.colab.kernel.accessAllowed ? 'block' : 'none';\n",
              "\n",
              "        async function convertToInteractive(key) {\n",
              "          const element = document.querySelector('#df-800481b3-3d1e-493e-bb2e-973909ca3d70');\n",
              "          const dataTable =\n",
              "            await google.colab.kernel.invokeFunction('convertToInteractive',\n",
              "                                                     [key], {});\n",
              "          if (!dataTable) return;\n",
              "\n",
              "          const docLinkHtml = 'Like what you see? Visit the ' +\n",
              "            '<a target=\"_blank\" href=https://colab.research.google.com/notebooks/data_table.ipynb>data table notebook</a>'\n",
              "            + ' to learn more about interactive tables.';\n",
              "          element.innerHTML = '';\n",
              "          dataTable['output_type'] = 'display_data';\n",
              "          await google.colab.output.renderOutput(dataTable, element);\n",
              "          const docLink = document.createElement('div');\n",
              "          docLink.innerHTML = docLinkHtml;\n",
              "          element.appendChild(docLink);\n",
              "        }\n",
              "      </script>\n",
              "    </div>\n",
              "  </div>\n",
              "  "
            ]
          },
          "metadata": {},
          "execution_count": 323
        }
      ]
    },
    {
      "cell_type": "markdown",
      "source": [
        "#Step 5: Missing Values"
      ],
      "metadata": {
        "id": "WeoEiveF3LUx"
      }
    },
    {
      "cell_type": "markdown",
      "source": [
        "####Filling fea_2"
      ],
      "metadata": {
        "id": "8w86wRAoGrPo"
      }
    },
    {
      "cell_type": "markdown",
      "source": [
        "Which columns are positively correlated to fea_2"
      ],
      "metadata": {
        "id": "rXJV7-jSHvQA"
      }
    },
    {
      "cell_type": "code",
      "source": [
        "plt.figure(figsize=(12, 10))\n",
        "sns.heatmap(balanced.corr(), annot=True, cmap=\"YlGnBu\")\n",
        "plt.show()"
      ],
      "metadata": {
        "colab": {
          "base_uri": "https://localhost:8080/",
          "height": 693
        },
        "id": "puzQgbE6HPD8",
        "outputId": "6010140d-fb98-42be-91d8-096d5f8a5ec7"
      },
      "execution_count": null,
      "outputs": [
        {
          "output_type": "display_data",
          "data": {
            "text/plain": [
              "<Figure size 864x720 with 2 Axes>"
            ],
            "image/png": "[encoded data removed]"
          },
          "metadata": {}
        }
      ]
    },
    {
      "cell_type": "code",
      "source": [
        "f2_pos = ['id', 'fea_1', 'fea_4', 'fea_6', 'fea_7', 'fea_10', 'fea_11', 'between_3n4']"
      ],
      "metadata": {
        "id": "fLrIgvhyH_8P"
      },
      "execution_count": null,
      "outputs": []
    },
    {
      "cell_type": "markdown",
      "source": [
        "####Splitting rows with missing values"
      ],
      "metadata": {
        "id": "VW0buXMPx8AZ"
      }
    },
    {
      "cell_type": "code",
      "source": [
        "test_fill = balanced[balanced.isnull().any(axis=1)]\n",
        "train_fill = balanced[~balanced.isnull().any(axis=1)]"
      ],
      "metadata": {
        "id": "owgdmGfXNWNC"
      },
      "execution_count": null,
      "outputs": []
    },
    {
      "cell_type": "code",
      "source": [
        "model_fill = LinearRegression()\n",
        "y_fill = train_fill['fea_2']\n",
        "X_fill = train_fill[f2_pos]\n",
        "model_fill.fit(X_fill, y_fill)\n",
        "test_fill['fea_2'] = model_fill.predict(test_fill[f2_pos])\n",
        "\n",
        "#filling less_1265\n",
        "test_fill.loc[test_fill['fea_2']<=1265, 'less_1265'] = 1\n",
        "test_fill.loc[test_fill['fea_2']>1265, 'less_1265'] = 0\n",
        "\n",
        "test_fill"
      ],
      "metadata": {
        "id": "QlNdS-MqJY1r",
        "colab": {
          "base_uri": "https://localhost:8080/",
          "height": 1000
        },
        "outputId": "8e4662c4-b027-400a-8afd-ea0bf6c7bd17"
      },
      "execution_count": null,
      "outputs": [
        {
          "output_type": "execute_result",
          "data": {
            "text/plain": [
              "     label        id  fea_1        fea_2  fea_3     fea_4  fea_6  fea_7  \\\n",
              "6        0  58994740      1  1256.179386      1   77000.0      1      0   \n",
              "9        0  58994019      1  1278.549464      2  156000.0      1      1   \n",
              "13       0  59000044      1  1267.306518      1   51000.0      1      1   \n",
              "14       0  59003535      0  1283.039898      1  139000.0      0      1   \n",
              "20       0  54984616      1  1288.687833      1  102000.0      1      1   \n",
              "28       0  59004748      0  1274.689441      1  105000.0      0      1   \n",
              "40       0  58991252      1  1264.977330      2  108000.0      1      2   \n",
              "42       0  58985785      1  1302.311767      2  250000.0      1      2   \n",
              "52       0  54988000      1  1296.046038      1  180000.0      1      1   \n",
              "80       0  58995669      1  1241.932693      2   35000.0      2      2   \n",
              "97       0  58995289      1  1250.746431      1   50000.0      1      1   \n",
              "104      0  58987276      1  1251.774518      2   50000.0      1      0   \n",
              "112      0  59003965      0  1267.944352      1   76000.0      0      0   \n",
              "116      0  59000066      0  1314.609035      1  259000.0      0      1   \n",
              "118      0  54989201      0  1267.216385      1   98000.0      0      1   \n",
              "141      0  59001188      0  1264.219733      1   69000.0      0      2   \n",
              "142      0  59000457      0  1270.238023      1   90000.0      0      1   \n",
              "148      0  54989018      0  1249.870334      1   45000.0      0      1   \n",
              "150      0  54990128      0  1270.029061      1  105000.0      0      0   \n",
              "152      0  54988614      1  1275.686400      1  106000.0      1      2   \n",
              "170      0  59004856      0  1273.117508      1   99000.0      0      1   \n",
              "171      0  54989325      0  1253.407204      1   49000.0      0      2   \n",
              "175      0  58990826      1  1285.879149      1  118000.0      1      0   \n",
              "176      0  54987715      1  1267.816079      1   76000.0      1      2   \n",
              "194      0  54984416      1  1341.145795      1   35000.0     16      2   \n",
              "200      0  58985627      1  1261.605581      2   95000.0      1      2   \n",
              "205      0  54983292      1  1278.809091      1  114000.0      1      1   \n",
              "206      0  58991432      1  1296.945038      1  117000.0      1      2   \n",
              "216      0  54986879      1  1279.807140      1  179000.0      1      1   \n",
              "220      0  54983822      1  1274.072934      2   94000.0      1      1   \n",
              "226      1  59003162      0  1260.198821      1   50000.0      0      1   \n",
              "237      1  59005268      0  1263.689612      1   67000.0      0      2   \n",
              "240      1  58983500      1  1266.509611      1   45000.0      1      0   \n",
              "246      1  54984978      1  1264.685271      1   58000.0      1      1   \n",
              "251      1  58995703      1  1258.830096      2   75000.0      1      0   \n",
              "253      1  58997773      0  1254.965373      1   45000.0      0      1   \n",
              "257      1  54983561      1  1242.306941      1   47000.0      1      1   \n",
              "258      1  59004235      0  1286.670268      1  150000.0      0      1   \n",
              "260      1  54982721      1  1271.920091      1   90000.0      1      1   \n",
              "261      1  58993131      1  1285.690408      1  120000.0      1      1   \n",
              "267      1  54985358      1  1274.303201      1   97000.0      1      1   \n",
              "268      1  59000336      0  1362.624409      1  446000.0      0      2   \n",
              "274      1  58985900      1  1278.722651      1   43000.0      1      0   \n",
              "277      1  54991441      0  1259.723877      1   66000.0      0      0   \n",
              "283      1  54984634      1  1290.987001      2  111000.0      1      1   \n",
              "288      1  58990611      1  1273.706668      2   79000.0      1      2   \n",
              "302      1  58997157      1  1276.840528      1   91000.0      1      2   \n",
              "305      1  58999328      0  1283.855379      1   94000.0      0      2   \n",
              "327      1  58991085      1  1278.889160      1   93000.0      1      1   \n",
              "348      1  58984653      1  1262.033587      1   44000.0      1      1   \n",
              "350      1  58999712      0  1263.584621      1   63000.0      0      1   \n",
              "357      1  59002226      0  1259.149704      1   48000.0      0      1   \n",
              "359      1  54989207      0  1253.448817      1   49000.0      0      2   \n",
              "360      1  54990623      0  1253.022396      1   44000.0      0      1   \n",
              "363      1  54988283      1  1264.786966      1   70000.0      1      0   \n",
              "374      1  58988697      1  1267.064715      1   50000.0      1      1   \n",
              "377      1  54989200      0  1254.761606      1   60000.0      0      0   \n",
              "384      1  54986851      1  1273.356376      1   89000.0      1      0   \n",
              "390      1  59004540      0  1255.471244      1   34000.0      0      1   \n",
              "391      1  59005881      0  1269.766829      1   94000.0      0      2   \n",
              "408      1  59000383      0  1255.923470      1   47000.0      0      0   \n",
              "409      1  54988154      1  1275.881017      1   56000.0      1      1   \n",
              "420      1  58995151      1  1271.815001      1  126000.0      1      0   \n",
              "428      1  54986977      1  1269.562388      1   77000.0      1      1   \n",
              "442      1  54984241      1  1256.810212      1   30000.0      1      1   \n",
              "445      1  58992285      1  1267.781677      1   56000.0      1      2   \n",
              "447      1  58987200      1  1271.656727      1  126000.0      1      0   \n",
              "\n",
              "     fea_10      fea_11  less_1265  less_75000  between_3n4  not_0  \n",
              "6    510000  159.699718        1.0         0.0          0.0    1.0  \n",
              "9    450069  165.831240        0.0         0.0          0.0    1.0  \n",
              "13    72015  170.293864        0.0         1.0          0.0    1.0  \n",
              "14    60036    1.000000        0.0         0.0          0.0    1.0  \n",
              "20   350055  184.390889        0.0         0.0          1.0    1.0  \n",
              "28    60014  187.082869        0.0         0.0          0.0    1.0  \n",
              "40   450006  158.113883        1.0         0.0          0.0    1.0  \n",
              "42   450031  187.082869        0.0         0.0          0.0    1.0  \n",
              "52    72001  167.332005        0.0         0.0          0.0    1.0  \n",
              "80   650070  161.854873        1.0         1.0          0.0    1.0  \n",
              "97   450080  167.564913        1.0         1.0          0.0    1.0  \n",
              "104  450080  194.935887        1.0         1.0          0.0    1.0  \n",
              "112   60091  158.407702        0.0         0.0          0.0    1.0  \n",
              "116   72000  200.000000        0.0         0.0          0.0    1.0  \n",
              "118   72050  181.143589        0.0         0.0          0.0    1.0  \n",
              "141   60048  166.033129        1.0         1.0          0.0    1.0  \n",
              "142   72001  188.925911        0.0         0.0          0.0    1.0  \n",
              "148  151307  172.130764        1.0         1.0          0.0    1.0  \n",
              "150   72000  187.056141        0.0         0.0          0.0    1.0  \n",
              "152   60033    1.000000        0.0         0.0          0.0    1.0  \n",
              "170   60036  188.066478        0.0         0.0          0.0    1.0  \n",
              "171   72001  180.723546        1.0         1.0          0.0    1.0  \n",
              "175   72000  187.082869        0.0         0.0          0.0    1.0  \n",
              "176   60000    1.000000        0.0         0.0          0.0    1.0  \n",
              "194  335534  105.900897        0.0         1.0          1.0    1.0  \n",
              "200  450006  173.205081        1.0         0.0          0.0    1.0  \n",
              "205   72049  195.691083        0.0         0.0          0.0    1.0  \n",
              "206  332720    1.000000        0.0         0.0          1.0    1.0  \n",
              "216  450002  267.581763        0.0         0.0          0.0    1.0  \n",
              "220   60057  193.636257        0.0         0.0          0.0    1.0  \n",
              "226   60033  167.934511        1.0         1.0          0.0    1.0  \n",
              "237   60074  162.923295        1.0         1.0          0.0    1.0  \n",
              "240   72000  118.684456        0.0         1.0          0.0    1.0  \n",
              "246   60075  212.132034        1.0         1.0          0.0    1.0  \n",
              "251  450018  353.553391        1.0         1.0          0.0    1.0  \n",
              "253  151300  173.205081        1.0         1.0          0.0    1.0  \n",
              "257  510037  175.826619        1.0         1.0          0.0    1.0  \n",
              "258   60018  244.754979        0.0         0.0          0.0    1.0  \n",
              "260   72014    1.000000        0.0         0.0          0.0    1.0  \n",
              "261   72000  265.339405        0.0         0.0          0.0    1.0  \n",
              "267   72000  179.080987        0.0         0.0          0.0    1.0  \n",
              "268   60014    1.000000        0.0         0.0          0.0    1.0  \n",
              "274  361027  167.788557        0.0         1.0          1.0    1.0  \n",
              "277   72002  162.449992        1.0         1.0          0.0    1.0  \n",
              "283  350075  164.316767        0.0         0.0          1.0    1.0  \n",
              "288   72000  177.002825        0.0         0.0          0.0    1.0  \n",
              "302   60074    1.000000        0.0         0.0          0.0    1.0  \n",
              "305  340006  200.000000        0.0         0.0          1.0    1.0  \n",
              "327   60000  189.224734        0.0         0.0          0.0    1.0  \n",
              "348  151300  169.611320        1.0         1.0          0.0    1.0  \n",
              "350   60000  160.770022        1.0         1.0          0.0    1.0  \n",
              "357   72000  165.375331        1.0         1.0          0.0    1.0  \n",
              "359   71000  180.280337        1.0         1.0          0.0    1.0  \n",
              "360   72000  171.014619        1.0         1.0          0.0    1.0  \n",
              "363  151304  187.082869        1.0         1.0          0.0    1.0  \n",
              "374   72000  181.554400        0.0         1.0          0.0    1.0  \n",
              "377  151300  172.322372        1.0         1.0          0.0    1.0  \n",
              "384   72001  243.166609        0.0         0.0          0.0    1.0  \n",
              "390   72049  163.294213        1.0         1.0          0.0    1.0  \n",
              "391   72000    1.000000        0.0         0.0          0.0    1.0  \n",
              "408  151300    1.000000        1.0         1.0          0.0    1.0  \n",
              "409  366001  165.930708        0.0         1.0          1.0    1.0  \n",
              "420  450028  224.267697        0.0         0.0          0.0    1.0  \n",
              "428   60000  174.931415        0.0         0.0          0.0    1.0  \n",
              "442   72002  207.364414        1.0         1.0          0.0    1.0  \n",
              "445   72001  212.132034        0.0         1.0          0.0    1.0  \n",
              "447  450058  176.068169        0.0         0.0          0.0    1.0  "
            ],
            "text/html": [
              "\n",
              "  <div id=\"df-8283dbf1-1b3c-4427-a3e3-b1f1d10a891e\">\n",
              "    <div class=\"colab-df-container\">\n",
              "      <div>\n",
              "<style scoped>\n",
              "    .dataframe tbody tr th:only-of-type {\n",
              "        vertical-align: middle;\n",
              "    }\n",
              "\n",
              "    .dataframe tbody tr th {\n",
              "        vertical-align: top;\n",
              "    }\n",
              "\n",
              "    .dataframe thead th {\n",
              "        text-align: right;\n",
              "    }\n",
              "</style>\n",
              "<table border=\"1\" class=\"dataframe\">\n",
              "  <thead>\n",
              "    <tr style=\"text-align: right;\">\n",
              "      <th></th>\n",
              "      <th>label</th>\n",
              "      <th>id</th>\n",
              "      <th>fea_1</th>\n",
              "      <th>fea_2</th>\n",
              "      <th>fea_3</th>\n",
              "      <th>fea_4</th>\n",
              "      <th>fea_6</th>\n",
              "      <th>fea_7</th>\n",
              "      <th>fea_10</th>\n",
              "      <th>fea_11</th>\n",
              "      <th>less_1265</th>\n",
              "      <th>less_75000</th>\n",
              "      <th>between_3n4</th>\n",
              "      <th>not_0</th>\n",
              "    </tr>\n",
              "  </thead>\n",
              "  <tbody>\n",
              "    <tr>\n",
              "      <th>6</th>\n",
              "      <td>0</td>\n",
              "      <td>58994740</td>\n",
              "      <td>1</td>\n",
              "      <td>1256.179386</td>\n",
              "      <td>1</td>\n",
              "      <td>77000.0</td>\n",
              "      <td>1</td>\n",
              "      <td>0</td>\n",
              "      <td>510000</td>\n",
              "      <td>159.699718</td>\n",
              "      <td>1.0</td>\n",
              "      <td>0.0</td>\n",
              "      <td>0.0</td>\n",
              "      <td>1.0</td>\n",
              "    </tr>\n",
              "    <tr>\n",
              "      <th>9</th>\n",
              "      <td>0</td>\n",
              "      <td>58994019</td>\n",
              "      <td>1</td>\n",
              "      <td>1278.549464</td>\n",
              "      <td>2</td>\n",
              "      <td>156000.0</td>\n",
              "      <td>1</td>\n",
              "      <td>1</td>\n",
              "      <td>450069</td>\n",
              "      <td>165.831240</td>\n",
              "      <td>0.0</td>\n",
              "      <td>0.0</td>\n",
              "      <td>0.0</td>\n",
              "      <td>1.0</td>\n",
              "    </tr>\n",
              "    <tr>\n",
              "      <th>13</th>\n",
              "      <td>0</td>\n",
              "      <td>59000044</td>\n",
              "      <td>1</td>\n",
              "      <td>1267.306518</td>\n",
              "      <td>1</td>\n",
              "      <td>51000.0</td>\n",
              "      <td>1</td>\n",
              "      <td>1</td>\n",
              "      <td>72015</td>\n",
              "      <td>170.293864</td>\n",
              "      <td>0.0</td>\n",
              "      <td>1.0</td>\n",
              "      <td>0.0</td>\n",
              "      <td>1.0</td>\n",
              "    </tr>\n",
              "    <tr>\n",
              "      <th>14</th>\n",
              "      <td>0</td>\n",
              "      <td>59003535</td>\n",
              "      <td>0</td>\n",
              "      <td>1283.039898</td>\n",
              "      <td>1</td>\n",
              "      <td>139000.0</td>\n",
              "      <td>0</td>\n",
              "      <td>1</td>\n",
              "      <td>60036</td>\n",
              "      <td>1.000000</td>\n",
              "      <td>0.0</td>\n",
              "      <td>0.0</td>\n",
              "      <td>0.0</td>\n",
              "      <td>1.0</td>\n",
              "    </tr>\n",
              "    <tr>\n",
              "      <th>20</th>\n",
              "      <td>0</td>\n",
              "      <td>54984616</td>\n",
              "      <td>1</td>\n",
              "      <td>1288.687833</td>\n",
              "      <td>1</td>\n",
              "      <td>102000.0</td>\n",
              "      <td>1</td>\n",
              "      <td>1</td>\n",
              "      <td>350055</td>\n",
              "      <td>184.390889</td>\n",
              "      <td>0.0</td>\n",
              "      <td>0.0</td>\n",
              "      <td>1.0</td>\n",
              "      <td>1.0</td>\n",
              "    </tr>\n",
              "    <tr>\n",
              "      <th>28</th>\n",
              "      <td>0</td>\n",
              "      <td>59004748</td>\n",
              "      <td>0</td>\n",
              "      <td>1274.689441</td>\n",
              "      <td>1</td>\n",
              "      <td>105000.0</td>\n",
              "      <td>0</td>\n",
              "      <td>1</td>\n",
              "      <td>60014</td>\n",
              "      <td>187.082869</td>\n",
              "      <td>0.0</td>\n",
              "      <td>0.0</td>\n",
              "      <td>0.0</td>\n",
              "      <td>1.0</td>\n",
              "    </tr>\n",
              "    <tr>\n",
              "      <th>40</th>\n",
              "      <td>0</td>\n",
              "      <td>58991252</td>\n",
              "      <td>1</td>\n",
              "      <td>1264.977330</td>\n",
              "      <td>2</td>\n",
              "      <td>108000.0</td>\n",
              "      <td>1</td>\n",
              "      <td>2</td>\n",
              "      <td>450006</td>\n",
              "      <td>158.113883</td>\n",
              "      <td>1.0</td>\n",
              "      <td>0.0</td>\n",
              "      <td>0.0</td>\n",
              "      <td>1.0</td>\n",
              "    </tr>\n",
              "    <tr>\n",
              "      <th>42</th>\n",
              "      <td>0</td>\n",
              "      <td>58985785</td>\n",
              "      <td>1</td>\n",
              "      <td>1302.311767</td>\n",
              "      <td>2</td>\n",
              "      <td>250000.0</td>\n",
              "      <td>1</td>\n",
              "      <td>2</td>\n",
              "      <td>450031</td>\n",
              "      <td>187.082869</td>\n",
              "      <td>0.0</td>\n",
              "      <td>0.0</td>\n",
              "      <td>0.0</td>\n",
              "      <td>1.0</td>\n",
              "    </tr>\n",
              "    <tr>\n",
              "      <th>52</th>\n",
              "      <td>0</td>\n",
              "      <td>54988000</td>\n",
              "      <td>1</td>\n",
              "      <td>1296.046038</td>\n",
              "      <td>1</td>\n",
              "      <td>180000.0</td>\n",
              "      <td>1</td>\n",
              "      <td>1</td>\n",
              "      <td>72001</td>\n",
              "      <td>167.332005</td>\n",
              "      <td>0.0</td>\n",
              "      <td>0.0</td>\n",
              "      <td>0.0</td>\n",
              "      <td>1.0</td>\n",
              "    </tr>\n",
              "    <tr>\n",
              "      <th>80</th>\n",
              "      <td>0</td>\n",
              "      <td>58995669</td>\n",
              "      <td>1</td>\n",
              "      <td>1241.932693</td>\n",
              "      <td>2</td>\n",
              "      <td>35000.0</td>\n",
              "      <td>2</td>\n",
              "      <td>2</td>\n",
              "      <td>650070</td>\n",
              "      <td>161.854873</td>\n",
              "      <td>1.0</td>\n",
              "      <td>1.0</td>\n",
              "      <td>0.0</td>\n",
              "      <td>1.0</td>\n",
              "    </tr>\n",
              "    <tr>\n",
              "      <th>97</th>\n",
              "      <td>0</td>\n",
              "      <td>58995289</td>\n",
              "      <td>1</td>\n",
              "      <td>1250.746431</td>\n",
              "      <td>1</td>\n",
              "      <td>50000.0</td>\n",
              "      <td>1</td>\n",
              "      <td>1</td>\n",
              "      <td>450080</td>\n",
              "      <td>167.564913</td>\n",
              "      <td>1.0</td>\n",
              "      <td>1.0</td>\n",
              "      <td>0.0</td>\n",
              "      <td>1.0</td>\n",
              "    </tr>\n",
              "    <tr>\n",
              "      <th>104</th>\n",
              "      <td>0</td>\n",
              "      <td>58987276</td>\n",
              "      <td>1</td>\n",
              "      <td>1251.774518</td>\n",
              "      <td>2</td>\n",
              "      <td>50000.0</td>\n",
              "      <td>1</td>\n",
              "      <td>0</td>\n",
              "      <td>450080</td>\n",
              "      <td>194.935887</td>\n",
              "      <td>1.0</td>\n",
              "      <td>1.0</td>\n",
              "      <td>0.0</td>\n",
              "      <td>1.0</td>\n",
              "    </tr>\n",
              "    <tr>\n",
              "      <th>112</th>\n",
              "      <td>0</td>\n",
              "      <td>59003965</td>\n",
              "      <td>0</td>\n",
              "      <td>1267.944352</td>\n",
              "      <td>1</td>\n",
              "      <td>76000.0</td>\n",
              "      <td>0</td>\n",
              "      <td>0</td>\n",
              "      <td>60091</td>\n",
              "      <td>158.407702</td>\n",
              "      <td>0.0</td>\n",
              "      <td>0.0</td>\n",
              "      <td>0.0</td>\n",
              "      <td>1.0</td>\n",
              "    </tr>\n",
              "    <tr>\n",
              "      <th>116</th>\n",
              "      <td>0</td>\n",
              "      <td>59000066</td>\n",
              "      <td>0</td>\n",
              "      <td>1314.609035</td>\n",
              "      <td>1</td>\n",
              "      <td>259000.0</td>\n",
              "      <td>0</td>\n",
              "      <td>1</td>\n",
              "      <td>72000</td>\n",
              "      <td>200.000000</td>\n",
              "      <td>0.0</td>\n",
              "      <td>0.0</td>\n",
              "      <td>0.0</td>\n",
              "      <td>1.0</td>\n",
              "    </tr>\n",
              "    <tr>\n",
              "      <th>118</th>\n",
              "      <td>0</td>\n",
              "      <td>54989201</td>\n",
              "      <td>0</td>\n",
              "      <td>1267.216385</td>\n",
              "      <td>1</td>\n",
              "      <td>98000.0</td>\n",
              "      <td>0</td>\n",
              "      <td>1</td>\n",
              "      <td>72050</td>\n",
              "      <td>181.143589</td>\n",
              "      <td>0.0</td>\n",
              "      <td>0.0</td>\n",
              "      <td>0.0</td>\n",
              "      <td>1.0</td>\n",
              "    </tr>\n",
              "    <tr>\n",
              "      <th>141</th>\n",
              "      <td>0</td>\n",
              "      <td>59001188</td>\n",
              "      <td>0</td>\n",
              "      <td>1264.219733</td>\n",
              "      <td>1</td>\n",
              "      <td>69000.0</td>\n",
              "      <td>0</td>\n",
              "      <td>2</td>\n",
              "      <td>60048</td>\n",
              "      <td>166.033129</td>\n",
              "      <td>1.0</td>\n",
              "      <td>1.0</td>\n",
              "      <td>0.0</td>\n",
              "      <td>1.0</td>\n",
              "    </tr>\n",
              "    <tr>\n",
              "      <th>142</th>\n",
              "      <td>0</td>\n",
              "      <td>59000457</td>\n",
              "      <td>0</td>\n",
              "      <td>1270.238023</td>\n",
              "      <td>1</td>\n",
              "      <td>90000.0</td>\n",
              "      <td>0</td>\n",
              "      <td>1</td>\n",
              "      <td>72001</td>\n",
              "      <td>188.925911</td>\n",
              "      <td>0.0</td>\n",
              "      <td>0.0</td>\n",
              "      <td>0.0</td>\n",
              "      <td>1.0</td>\n",
              "    </tr>\n",
              "    <tr>\n",
              "      <th>148</th>\n",
              "      <td>0</td>\n",
              "      <td>54989018</td>\n",
              "      <td>0</td>\n",
              "      <td>1249.870334</td>\n",
              "      <td>1</td>\n",
              "      <td>45000.0</td>\n",
              "      <td>0</td>\n",
              "      <td>1</td>\n",
              "      <td>151307</td>\n",
              "      <td>172.130764</td>\n",
              "      <td>1.0</td>\n",
              "      <td>1.0</td>\n",
              "      <td>0.0</td>\n",
              "      <td>1.0</td>\n",
              "    </tr>\n",
              "    <tr>\n",
              "      <th>150</th>\n",
              "      <td>0</td>\n",
              "      <td>54990128</td>\n",
              "      <td>0</td>\n",
              "      <td>1270.029061</td>\n",
              "      <td>1</td>\n",
              "      <td>105000.0</td>\n",
              "      <td>0</td>\n",
              "      <td>0</td>\n",
              "      <td>72000</td>\n",
              "      <td>187.056141</td>\n",
              "      <td>0.0</td>\n",
              "      <td>0.0</td>\n",
              "      <td>0.0</td>\n",
              "      <td>1.0</td>\n",
              "    </tr>\n",
              "    <tr>\n",
              "      <th>152</th>\n",
              "      <td>0</td>\n",
              "      <td>54988614</td>\n",
              "      <td>1</td>\n",
              "      <td>1275.686400</td>\n",
              "      <td>1</td>\n",
              "      <td>106000.0</td>\n",
              "      <td>1</td>\n",
              "      <td>2</td>\n",
              "      <td>60033</td>\n",
              "      <td>1.000000</td>\n",
              "      <td>0.0</td>\n",
              "      <td>0.0</td>\n",
              "      <td>0.0</td>\n",
              "      <td>1.0</td>\n",
              "    </tr>\n",
              "    <tr>\n",
              "      <th>170</th>\n",
              "      <td>0</td>\n",
              "      <td>59004856</td>\n",
              "      <td>0</td>\n",
              "      <td>1273.117508</td>\n",
              "      <td>1</td>\n",
              "      <td>99000.0</td>\n",
              "      <td>0</td>\n",
              "      <td>1</td>\n",
              "      <td>60036</td>\n",
              "      <td>188.066478</td>\n",
              "      <td>0.0</td>\n",
              "      <td>0.0</td>\n",
              "      <td>0.0</td>\n",
              "      <td>1.0</td>\n",
              "    </tr>\n",
              "    <tr>\n",
              "      <th>171</th>\n",
              "      <td>0</td>\n",
              "      <td>54989325</td>\n",
              "      <td>0</td>\n",
              "      <td>1253.407204</td>\n",
              "      <td>1</td>\n",
              "      <td>49000.0</td>\n",
              "      <td>0</td>\n",
              "      <td>2</td>\n",
              "      <td>72001</td>\n",
              "      <td>180.723546</td>\n",
              "      <td>1.0</td>\n",
              "      <td>1.0</td>\n",
              "      <td>0.0</td>\n",
              "      <td>1.0</td>\n",
              "    </tr>\n",
              "    <tr>\n",
              "      <th>175</th>\n",
              "      <td>0</td>\n",
              "      <td>58990826</td>\n",
              "      <td>1</td>\n",
              "      <td>1285.879149</td>\n",
              "      <td>1</td>\n",
              "      <td>118000.0</td>\n",
              "      <td>1</td>\n",
              "      <td>0</td>\n",
              "      <td>72000</td>\n",
              "      <td>187.082869</td>\n",
              "      <td>0.0</td>\n",
              "      <td>0.0</td>\n",
              "      <td>0.0</td>\n",
              "      <td>1.0</td>\n",
              "    </tr>\n",
              "    <tr>\n",
              "      <th>176</th>\n",
              "      <td>0</td>\n",
              "      <td>54987715</td>\n",
              "      <td>1</td>\n",
              "      <td>1267.816079</td>\n",
              "      <td>1</td>\n",
              "      <td>76000.0</td>\n",
              "      <td>1</td>\n",
              "      <td>2</td>\n",
              "      <td>60000</td>\n",
              "      <td>1.000000</td>\n",
              "      <td>0.0</td>\n",
              "      <td>0.0</td>\n",
              "      <td>0.0</td>\n",
              "      <td>1.0</td>\n",
              "    </tr>\n",
              "    <tr>\n",
              "      <th>194</th>\n",
              "      <td>0</td>\n",
              "      <td>54984416</td>\n",
              "      <td>1</td>\n",
              "      <td>1341.145795</td>\n",
              "      <td>1</td>\n",
              "      <td>35000.0</td>\n",
              "      <td>16</td>\n",
              "      <td>2</td>\n",
              "      <td>335534</td>\n",
              "      <td>105.900897</td>\n",
              "      <td>0.0</td>\n",
              "      <td>1.0</td>\n",
              "      <td>1.0</td>\n",
              "      <td>1.0</td>\n",
              "    </tr>\n",
              "    <tr>\n",
              "      <th>200</th>\n",
              "      <td>0</td>\n",
              "      <td>58985627</td>\n",
              "      <td>1</td>\n",
              "      <td>1261.605581</td>\n",
              "      <td>2</td>\n",
              "      <td>95000.0</td>\n",
              "      <td>1</td>\n",
              "      <td>2</td>\n",
              "      <td>450006</td>\n",
              "      <td>173.205081</td>\n",
              "      <td>1.0</td>\n",
              "      <td>0.0</td>\n",
              "      <td>0.0</td>\n",
              "      <td>1.0</td>\n",
              "    </tr>\n",
              "    <tr>\n",
              "      <th>205</th>\n",
              "      <td>0</td>\n",
              "      <td>54983292</td>\n",
              "      <td>1</td>\n",
              "      <td>1278.809091</td>\n",
              "      <td>1</td>\n",
              "      <td>114000.0</td>\n",
              "      <td>1</td>\n",
              "      <td>1</td>\n",
              "      <td>72049</td>\n",
              "      <td>195.691083</td>\n",
              "      <td>0.0</td>\n",
              "      <td>0.0</td>\n",
              "      <td>0.0</td>\n",
              "      <td>1.0</td>\n",
              "    </tr>\n",
              "    <tr>\n",
              "      <th>206</th>\n",
              "      <td>0</td>\n",
              "      <td>58991432</td>\n",
              "      <td>1</td>\n",
              "      <td>1296.945038</td>\n",
              "      <td>1</td>\n",
              "      <td>117000.0</td>\n",
              "      <td>1</td>\n",
              "      <td>2</td>\n",
              "      <td>332720</td>\n",
              "      <td>1.000000</td>\n",
              "      <td>0.0</td>\n",
              "      <td>0.0</td>\n",
              "      <td>1.0</td>\n",
              "      <td>1.0</td>\n",
              "    </tr>\n",
              "    <tr>\n",
              "      <th>216</th>\n",
              "      <td>0</td>\n",
              "      <td>54986879</td>\n",
              "      <td>1</td>\n",
              "      <td>1279.807140</td>\n",
              "      <td>1</td>\n",
              "      <td>179000.0</td>\n",
              "      <td>1</td>\n",
              "      <td>1</td>\n",
              "      <td>450002</td>\n",
              "      <td>267.581763</td>\n",
              "      <td>0.0</td>\n",
              "      <td>0.0</td>\n",
              "      <td>0.0</td>\n",
              "      <td>1.0</td>\n",
              "    </tr>\n",
              "    <tr>\n",
              "      <th>220</th>\n",
              "      <td>0</td>\n",
              "      <td>54983822</td>\n",
              "      <td>1</td>\n",
              "      <td>1274.072934</td>\n",
              "      <td>2</td>\n",
              "      <td>94000.0</td>\n",
              "      <td>1</td>\n",
              "      <td>1</td>\n",
              "      <td>60057</td>\n",
              "      <td>193.636257</td>\n",
              "      <td>0.0</td>\n",
              "      <td>0.0</td>\n",
              "      <td>0.0</td>\n",
              "      <td>1.0</td>\n",
              "    </tr>\n",
              "    <tr>\n",
              "      <th>226</th>\n",
              "      <td>1</td>\n",
              "      <td>59003162</td>\n",
              "      <td>0</td>\n",
              "      <td>1260.198821</td>\n",
              "      <td>1</td>\n",
              "      <td>50000.0</td>\n",
              "      <td>0</td>\n",
              "      <td>1</td>\n",
              "      <td>60033</td>\n",
              "      <td>167.934511</td>\n",
              "      <td>1.0</td>\n",
              "      <td>1.0</td>\n",
              "      <td>0.0</td>\n",
              "      <td>1.0</td>\n",
              "    </tr>\n",
              "    <tr>\n",
              "      <th>237</th>\n",
              "      <td>1</td>\n",
              "      <td>59005268</td>\n",
              "      <td>0</td>\n",
              "      <td>1263.689612</td>\n",
              "      <td>1</td>\n",
              "      <td>67000.0</td>\n",
              "      <td>0</td>\n",
              "      <td>2</td>\n",
              "      <td>60074</td>\n",
              "      <td>162.923295</td>\n",
              "      <td>1.0</td>\n",
              "      <td>1.0</td>\n",
              "      <td>0.0</td>\n",
              "      <td>1.0</td>\n",
              "    </tr>\n",
              "    <tr>\n",
              "      <th>240</th>\n",
              "      <td>1</td>\n",
              "      <td>58983500</td>\n",
              "      <td>1</td>\n",
              "      <td>1266.509611</td>\n",
              "      <td>1</td>\n",
              "      <td>45000.0</td>\n",
              "      <td>1</td>\n",
              "      <td>0</td>\n",
              "      <td>72000</td>\n",
              "      <td>118.684456</td>\n",
              "      <td>0.0</td>\n",
              "      <td>1.0</td>\n",
              "      <td>0.0</td>\n",
              "      <td>1.0</td>\n",
              "    </tr>\n",
              "    <tr>\n",
              "      <th>246</th>\n",
              "      <td>1</td>\n",
              "      <td>54984978</td>\n",
              "      <td>1</td>\n",
              "      <td>1264.685271</td>\n",
              "      <td>1</td>\n",
              "      <td>58000.0</td>\n",
              "      <td>1</td>\n",
              "      <td>1</td>\n",
              "      <td>60075</td>\n",
              "      <td>212.132034</td>\n",
              "      <td>1.0</td>\n",
              "      <td>1.0</td>\n",
              "      <td>0.0</td>\n",
              "      <td>1.0</td>\n",
              "    </tr>\n",
              "    <tr>\n",
              "      <th>251</th>\n",
              "      <td>1</td>\n",
              "      <td>58995703</td>\n",
              "      <td>1</td>\n",
              "      <td>1258.830096</td>\n",
              "      <td>2</td>\n",
              "      <td>75000.0</td>\n",
              "      <td>1</td>\n",
              "      <td>0</td>\n",
              "      <td>450018</td>\n",
              "      <td>353.553391</td>\n",
              "      <td>1.0</td>\n",
              "      <td>1.0</td>\n",
              "      <td>0.0</td>\n",
              "      <td>1.0</td>\n",
              "    </tr>\n",
              "    <tr>\n",
              "      <th>253</th>\n",
              "      <td>1</td>\n",
              "      <td>58997773</td>\n",
              "      <td>0</td>\n",
              "      <td>1254.965373</td>\n",
              "      <td>1</td>\n",
              "      <td>45000.0</td>\n",
              "      <td>0</td>\n",
              "      <td>1</td>\n",
              "      <td>151300</td>\n",
              "      <td>173.205081</td>\n",
              "      <td>1.0</td>\n",
              "      <td>1.0</td>\n",
              "      <td>0.0</td>\n",
              "      <td>1.0</td>\n",
              "    </tr>\n",
              "    <tr>\n",
              "      <th>257</th>\n",
              "      <td>1</td>\n",
              "      <td>54983561</td>\n",
              "      <td>1</td>\n",
              "      <td>1242.306941</td>\n",
              "      <td>1</td>\n",
              "      <td>47000.0</td>\n",
              "      <td>1</td>\n",
              "      <td>1</td>\n",
              "      <td>510037</td>\n",
              "      <td>175.826619</td>\n",
              "      <td>1.0</td>\n",
              "      <td>1.0</td>\n",
              "      <td>0.0</td>\n",
              "      <td>1.0</td>\n",
              "    </tr>\n",
              "    <tr>\n",
              "      <th>258</th>\n",
              "      <td>1</td>\n",
              "      <td>59004235</td>\n",
              "      <td>0</td>\n",
              "      <td>1286.670268</td>\n",
              "      <td>1</td>\n",
              "      <td>150000.0</td>\n",
              "      <td>0</td>\n",
              "      <td>1</td>\n",
              "      <td>60018</td>\n",
              "      <td>244.754979</td>\n",
              "      <td>0.0</td>\n",
              "      <td>0.0</td>\n",
              "      <td>0.0</td>\n",
              "      <td>1.0</td>\n",
              "    </tr>\n",
              "    <tr>\n",
              "      <th>260</th>\n",
              "      <td>1</td>\n",
              "      <td>54982721</td>\n",
              "      <td>1</td>\n",
              "      <td>1271.920091</td>\n",
              "      <td>1</td>\n",
              "      <td>90000.0</td>\n",
              "      <td>1</td>\n",
              "      <td>1</td>\n",
              "      <td>72014</td>\n",
              "      <td>1.000000</td>\n",
              "      <td>0.0</td>\n",
              "      <td>0.0</td>\n",
              "      <td>0.0</td>\n",
              "      <td>1.0</td>\n",
              "    </tr>\n",
              "    <tr>\n",
              "      <th>261</th>\n",
              "      <td>1</td>\n",
              "      <td>58993131</td>\n",
              "      <td>1</td>\n",
              "      <td>1285.690408</td>\n",
              "      <td>1</td>\n",
              "      <td>120000.0</td>\n",
              "      <td>1</td>\n",
              "      <td>1</td>\n",
              "      <td>72000</td>\n",
              "      <td>265.339405</td>\n",
              "      <td>0.0</td>\n",
              "      <td>0.0</td>\n",
              "      <td>0.0</td>\n",
              "      <td>1.0</td>\n",
              "    </tr>\n",
              "    <tr>\n",
              "      <th>267</th>\n",
              "      <td>1</td>\n",
              "      <td>54985358</td>\n",
              "      <td>1</td>\n",
              "      <td>1274.303201</td>\n",
              "      <td>1</td>\n",
              "      <td>97000.0</td>\n",
              "      <td>1</td>\n",
              "      <td>1</td>\n",
              "      <td>72000</td>\n",
              "      <td>179.080987</td>\n",
              "      <td>0.0</td>\n",
              "      <td>0.0</td>\n",
              "      <td>0.0</td>\n",
              "      <td>1.0</td>\n",
              "    </tr>\n",
              "    <tr>\n",
              "      <th>268</th>\n",
              "      <td>1</td>\n",
              "      <td>59000336</td>\n",
              "      <td>0</td>\n",
              "      <td>1362.624409</td>\n",
              "      <td>1</td>\n",
              "      <td>446000.0</td>\n",
              "      <td>0</td>\n",
              "      <td>2</td>\n",
              "      <td>60014</td>\n",
              "      <td>1.000000</td>\n",
              "      <td>0.0</td>\n",
              "      <td>0.0</td>\n",
              "      <td>0.0</td>\n",
              "      <td>1.0</td>\n",
              "    </tr>\n",
              "    <tr>\n",
              "      <th>274</th>\n",
              "      <td>1</td>\n",
              "      <td>58985900</td>\n",
              "      <td>1</td>\n",
              "      <td>1278.722651</td>\n",
              "      <td>1</td>\n",
              "      <td>43000.0</td>\n",
              "      <td>1</td>\n",
              "      <td>0</td>\n",
              "      <td>361027</td>\n",
              "      <td>167.788557</td>\n",
              "      <td>0.0</td>\n",
              "      <td>1.0</td>\n",
              "      <td>1.0</td>\n",
              "      <td>1.0</td>\n",
              "    </tr>\n",
              "    <tr>\n",
              "      <th>277</th>\n",
              "      <td>1</td>\n",
              "      <td>54991441</td>\n",
              "      <td>0</td>\n",
              "      <td>1259.723877</td>\n",
              "      <td>1</td>\n",
              "      <td>66000.0</td>\n",
              "      <td>0</td>\n",
              "      <td>0</td>\n",
              "      <td>72002</td>\n",
              "      <td>162.449992</td>\n",
              "      <td>1.0</td>\n",
              "      <td>1.0</td>\n",
              "      <td>0.0</td>\n",
              "      <td>1.0</td>\n",
              "    </tr>\n",
              "    <tr>\n",
              "      <th>283</th>\n",
              "      <td>1</td>\n",
              "      <td>54984634</td>\n",
              "      <td>1</td>\n",
              "      <td>1290.987001</td>\n",
              "      <td>2</td>\n",
              "      <td>111000.0</td>\n",
              "      <td>1</td>\n",
              "      <td>1</td>\n",
              "      <td>350075</td>\n",
              "      <td>164.316767</td>\n",
              "      <td>0.0</td>\n",
              "      <td>0.0</td>\n",
              "      <td>1.0</td>\n",
              "      <td>1.0</td>\n",
              "    </tr>\n",
              "    <tr>\n",
              "      <th>288</th>\n",
              "      <td>1</td>\n",
              "      <td>58990611</td>\n",
              "      <td>1</td>\n",
              "      <td>1273.706668</td>\n",
              "      <td>2</td>\n",
              "      <td>79000.0</td>\n",
              "      <td>1</td>\n",
              "      <td>2</td>\n",
              "      <td>72000</td>\n",
              "      <td>177.002825</td>\n",
              "      <td>0.0</td>\n",
              "      <td>0.0</td>\n",
              "      <td>0.0</td>\n",
              "      <td>1.0</td>\n",
              "    </tr>\n",
              "    <tr>\n",
              "      <th>302</th>\n",
              "      <td>1</td>\n",
              "      <td>58997157</td>\n",
              "      <td>1</td>\n",
              "      <td>1276.840528</td>\n",
              "      <td>1</td>\n",
              "      <td>91000.0</td>\n",
              "      <td>1</td>\n",
              "      <td>2</td>\n",
              "      <td>60074</td>\n",
              "      <td>1.000000</td>\n",
              "      <td>0.0</td>\n",
              "      <td>0.0</td>\n",
              "      <td>0.0</td>\n",
              "      <td>1.0</td>\n",
              "    </tr>\n",
              "    <tr>\n",
              "      <th>305</th>\n",
              "      <td>1</td>\n",
              "      <td>58999328</td>\n",
              "      <td>0</td>\n",
              "      <td>1283.855379</td>\n",
              "      <td>1</td>\n",
              "      <td>94000.0</td>\n",
              "      <td>0</td>\n",
              "      <td>2</td>\n",
              "      <td>340006</td>\n",
              "      <td>200.000000</td>\n",
              "      <td>0.0</td>\n",
              "      <td>0.0</td>\n",
              "      <td>1.0</td>\n",
              "      <td>1.0</td>\n",
              "    </tr>\n",
              "    <tr>\n",
              "      <th>327</th>\n",
              "      <td>1</td>\n",
              "      <td>58991085</td>\n",
              "      <td>1</td>\n",
              "      <td>1278.889160</td>\n",
              "      <td>1</td>\n",
              "      <td>93000.0</td>\n",
              "      <td>1</td>\n",
              "      <td>1</td>\n",
              "      <td>60000</td>\n",
              "      <td>189.224734</td>\n",
              "      <td>0.0</td>\n",
              "      <td>0.0</td>\n",
              "      <td>0.0</td>\n",
              "      <td>1.0</td>\n",
              "    </tr>\n",
              "    <tr>\n",
              "      <th>348</th>\n",
              "      <td>1</td>\n",
              "      <td>58984653</td>\n",
              "      <td>1</td>\n",
              "      <td>1262.033587</td>\n",
              "      <td>1</td>\n",
              "      <td>44000.0</td>\n",
              "      <td>1</td>\n",
              "      <td>1</td>\n",
              "      <td>151300</td>\n",
              "      <td>169.611320</td>\n",
              "      <td>1.0</td>\n",
              "      <td>1.0</td>\n",
              "      <td>0.0</td>\n",
              "      <td>1.0</td>\n",
              "    </tr>\n",
              "    <tr>\n",
              "      <th>350</th>\n",
              "      <td>1</td>\n",
              "      <td>58999712</td>\n",
              "      <td>0</td>\n",
              "      <td>1263.584621</td>\n",
              "      <td>1</td>\n",
              "      <td>63000.0</td>\n",
              "      <td>0</td>\n",
              "      <td>1</td>\n",
              "      <td>60000</td>\n",
              "      <td>160.770022</td>\n",
              "      <td>1.0</td>\n",
              "      <td>1.0</td>\n",
              "      <td>0.0</td>\n",
              "      <td>1.0</td>\n",
              "    </tr>\n",
              "    <tr>\n",
              "      <th>357</th>\n",
              "      <td>1</td>\n",
              "      <td>59002226</td>\n",
              "      <td>0</td>\n",
              "      <td>1259.149704</td>\n",
              "      <td>1</td>\n",
              "      <td>48000.0</td>\n",
              "      <td>0</td>\n",
              "      <td>1</td>\n",
              "      <td>72000</td>\n",
              "      <td>165.375331</td>\n",
              "      <td>1.0</td>\n",
              "      <td>1.0</td>\n",
              "      <td>0.0</td>\n",
              "      <td>1.0</td>\n",
              "    </tr>\n",
              "    <tr>\n",
              "      <th>359</th>\n",
              "      <td>1</td>\n",
              "      <td>54989207</td>\n",
              "      <td>0</td>\n",
              "      <td>1253.448817</td>\n",
              "      <td>1</td>\n",
              "      <td>49000.0</td>\n",
              "      <td>0</td>\n",
              "      <td>2</td>\n",
              "      <td>71000</td>\n",
              "      <td>180.280337</td>\n",
              "      <td>1.0</td>\n",
              "      <td>1.0</td>\n",
              "      <td>0.0</td>\n",
              "      <td>1.0</td>\n",
              "    </tr>\n",
              "    <tr>\n",
              "      <th>360</th>\n",
              "      <td>1</td>\n",
              "      <td>54990623</td>\n",
              "      <td>0</td>\n",
              "      <td>1253.022396</td>\n",
              "      <td>1</td>\n",
              "      <td>44000.0</td>\n",
              "      <td>0</td>\n",
              "      <td>1</td>\n",
              "      <td>72000</td>\n",
              "      <td>171.014619</td>\n",
              "      <td>1.0</td>\n",
              "      <td>1.0</td>\n",
              "      <td>0.0</td>\n",
              "      <td>1.0</td>\n",
              "    </tr>\n",
              "    <tr>\n",
              "      <th>363</th>\n",
              "      <td>1</td>\n",
              "      <td>54988283</td>\n",
              "      <td>1</td>\n",
              "      <td>1264.786966</td>\n",
              "      <td>1</td>\n",
              "      <td>70000.0</td>\n",
              "      <td>1</td>\n",
              "      <td>0</td>\n",
              "      <td>151304</td>\n",
              "      <td>187.082869</td>\n",
              "      <td>1.0</td>\n",
              "      <td>1.0</td>\n",
              "      <td>0.0</td>\n",
              "      <td>1.0</td>\n",
              "    </tr>\n",
              "    <tr>\n",
              "      <th>374</th>\n",
              "      <td>1</td>\n",
              "      <td>58988697</td>\n",
              "      <td>1</td>\n",
              "      <td>1267.064715</td>\n",
              "      <td>1</td>\n",
              "      <td>50000.0</td>\n",
              "      <td>1</td>\n",
              "      <td>1</td>\n",
              "      <td>72000</td>\n",
              "      <td>181.554400</td>\n",
              "      <td>0.0</td>\n",
              "      <td>1.0</td>\n",
              "      <td>0.0</td>\n",
              "      <td>1.0</td>\n",
              "    </tr>\n",
              "    <tr>\n",
              "      <th>377</th>\n",
              "      <td>1</td>\n",
              "      <td>54989200</td>\n",
              "      <td>0</td>\n",
              "      <td>1254.761606</td>\n",
              "      <td>1</td>\n",
              "      <td>60000.0</td>\n",
              "      <td>0</td>\n",
              "      <td>0</td>\n",
              "      <td>151300</td>\n",
              "      <td>172.322372</td>\n",
              "      <td>1.0</td>\n",
              "      <td>1.0</td>\n",
              "      <td>0.0</td>\n",
              "      <td>1.0</td>\n",
              "    </tr>\n",
              "    <tr>\n",
              "      <th>384</th>\n",
              "      <td>1</td>\n",
              "      <td>54986851</td>\n",
              "      <td>1</td>\n",
              "      <td>1273.356376</td>\n",
              "      <td>1</td>\n",
              "      <td>89000.0</td>\n",
              "      <td>1</td>\n",
              "      <td>0</td>\n",
              "      <td>72001</td>\n",
              "      <td>243.166609</td>\n",
              "      <td>0.0</td>\n",
              "      <td>0.0</td>\n",
              "      <td>0.0</td>\n",
              "      <td>1.0</td>\n",
              "    </tr>\n",
              "    <tr>\n",
              "      <th>390</th>\n",
              "      <td>1</td>\n",
              "      <td>59004540</td>\n",
              "      <td>0</td>\n",
              "      <td>1255.471244</td>\n",
              "      <td>1</td>\n",
              "      <td>34000.0</td>\n",
              "      <td>0</td>\n",
              "      <td>1</td>\n",
              "      <td>72049</td>\n",
              "      <td>163.294213</td>\n",
              "      <td>1.0</td>\n",
              "      <td>1.0</td>\n",
              "      <td>0.0</td>\n",
              "      <td>1.0</td>\n",
              "    </tr>\n",
              "    <tr>\n",
              "      <th>391</th>\n",
              "      <td>1</td>\n",
              "      <td>59005881</td>\n",
              "      <td>0</td>\n",
              "      <td>1269.766829</td>\n",
              "      <td>1</td>\n",
              "      <td>94000.0</td>\n",
              "      <td>0</td>\n",
              "      <td>2</td>\n",
              "      <td>72000</td>\n",
              "      <td>1.000000</td>\n",
              "      <td>0.0</td>\n",
              "      <td>0.0</td>\n",
              "      <td>0.0</td>\n",
              "      <td>1.0</td>\n",
              "    </tr>\n",
              "    <tr>\n",
              "      <th>408</th>\n",
              "      <td>1</td>\n",
              "      <td>59000383</td>\n",
              "      <td>0</td>\n",
              "      <td>1255.923470</td>\n",
              "      <td>1</td>\n",
              "      <td>47000.0</td>\n",
              "      <td>0</td>\n",
              "      <td>0</td>\n",
              "      <td>151300</td>\n",
              "      <td>1.000000</td>\n",
              "      <td>1.0</td>\n",
              "      <td>1.0</td>\n",
              "      <td>0.0</td>\n",
              "      <td>1.0</td>\n",
              "    </tr>\n",
              "    <tr>\n",
              "      <th>409</th>\n",
              "      <td>1</td>\n",
              "      <td>54988154</td>\n",
              "      <td>1</td>\n",
              "      <td>1275.881017</td>\n",
              "      <td>1</td>\n",
              "      <td>56000.0</td>\n",
              "      <td>1</td>\n",
              "      <td>1</td>\n",
              "      <td>366001</td>\n",
              "      <td>165.930708</td>\n",
              "      <td>0.0</td>\n",
              "      <td>1.0</td>\n",
              "      <td>1.0</td>\n",
              "      <td>1.0</td>\n",
              "    </tr>\n",
              "    <tr>\n",
              "      <th>420</th>\n",
              "      <td>1</td>\n",
              "      <td>58995151</td>\n",
              "      <td>1</td>\n",
              "      <td>1271.815001</td>\n",
              "      <td>1</td>\n",
              "      <td>126000.0</td>\n",
              "      <td>1</td>\n",
              "      <td>0</td>\n",
              "      <td>450028</td>\n",
              "      <td>224.267697</td>\n",
              "      <td>0.0</td>\n",
              "      <td>0.0</td>\n",
              "      <td>0.0</td>\n",
              "      <td>1.0</td>\n",
              "    </tr>\n",
              "    <tr>\n",
              "      <th>428</th>\n",
              "      <td>1</td>\n",
              "      <td>54986977</td>\n",
              "      <td>1</td>\n",
              "      <td>1269.562388</td>\n",
              "      <td>1</td>\n",
              "      <td>77000.0</td>\n",
              "      <td>1</td>\n",
              "      <td>1</td>\n",
              "      <td>60000</td>\n",
              "      <td>174.931415</td>\n",
              "      <td>0.0</td>\n",
              "      <td>0.0</td>\n",
              "      <td>0.0</td>\n",
              "      <td>1.0</td>\n",
              "    </tr>\n",
              "    <tr>\n",
              "      <th>442</th>\n",
              "      <td>1</td>\n",
              "      <td>54984241</td>\n",
              "      <td>1</td>\n",
              "      <td>1256.810212</td>\n",
              "      <td>1</td>\n",
              "      <td>30000.0</td>\n",
              "      <td>1</td>\n",
              "      <td>1</td>\n",
              "      <td>72002</td>\n",
              "      <td>207.364414</td>\n",
              "      <td>1.0</td>\n",
              "      <td>1.0</td>\n",
              "      <td>0.0</td>\n",
              "      <td>1.0</td>\n",
              "    </tr>\n",
              "    <tr>\n",
              "      <th>445</th>\n",
              "      <td>1</td>\n",
              "      <td>58992285</td>\n",
              "      <td>1</td>\n",
              "      <td>1267.781677</td>\n",
              "      <td>1</td>\n",
              "      <td>56000.0</td>\n",
              "      <td>1</td>\n",
              "      <td>2</td>\n",
              "      <td>72001</td>\n",
              "      <td>212.132034</td>\n",
              "      <td>0.0</td>\n",
              "      <td>1.0</td>\n",
              "      <td>0.0</td>\n",
              "      <td>1.0</td>\n",
              "    </tr>\n",
              "    <tr>\n",
              "      <th>447</th>\n",
              "      <td>1</td>\n",
              "      <td>58987200</td>\n",
              "      <td>1</td>\n",
              "      <td>1271.656727</td>\n",
              "      <td>1</td>\n",
              "      <td>126000.0</td>\n",
              "      <td>1</td>\n",
              "      <td>0</td>\n",
              "      <td>450058</td>\n",
              "      <td>176.068169</td>\n",
              "      <td>0.0</td>\n",
              "      <td>0.0</td>\n",
              "      <td>0.0</td>\n",
              "      <td>1.0</td>\n",
              "    </tr>\n",
              "  </tbody>\n",
              "</table>\n",
              "</div>\n",
              "      <button class=\"colab-df-convert\" onclick=\"convertToInteractive('df-8283dbf1-1b3c-4427-a3e3-b1f1d10a891e')\"\n",
              "              title=\"Convert this dataframe to an interactive table.\"\n",
              "              style=\"display:none;\">\n",
              "        \n",
              "  <svg xmlns=\"http://www.w3.org/2000/svg\" height=\"24px\"viewBox=\"0 0 24 24\"\n",
              "       width=\"24px\">\n",
              "    <path d=\"M0 0h24v24H0V0z\" fill=\"none\"/>\n",
              "    <path d=\"M18.56 5.44l.94 2.06.94-2.06 2.06-.94-2.06-.94-.94-2.06-.94 2.06-2.06.94zm-11 1L8.5 8.5l.94-2.06 2.06-.94-2.06-.94L8.5 2.5l-.94 2.06-2.06.94zm10 10l.94 2.06.94-2.06 2.06-.94-2.06-.94-.94-2.06-.94 2.06-2.06.94z\"/><path d=\"M17.41 7.96l-1.37-1.37c-.4-.4-.92-.59-1.43-.59-.52 0-1.04.2-1.43.59L10.3 9.45l-7.72 7.72c-.78.78-.78 2.05 0 2.83L4 21.41c.39.39.9.59 1.41.59.51 0 1.02-.2 1.41-.59l7.78-7.78 2.81-2.81c.8-.78.8-2.07 0-2.86zM5.41 20L4 18.59l7.72-7.72 1.47 1.35L5.41 20z\"/>\n",
              "  </svg>\n",
              "      </button>\n",
              "      \n",
              "  <style>\n",
              "    .colab-df-container {\n",
              "      display:flex;\n",
              "      flex-wrap:wrap;\n",
              "      gap: 12px;\n",
              "    }\n",
              "\n",
              "    .colab-df-convert {\n",
              "      background-color: #E8F0FE;\n",
              "      border: none;\n",
              "      border-radius: 50%;\n",
              "      cursor: pointer;\n",
              "      display: none;\n",
              "      fill: #1967D2;\n",
              "      height: 32px;\n",
              "      padding: 0 0 0 0;\n",
              "      width: 32px;\n",
              "    }\n",
              "\n",
              "    .colab-df-convert:hover {\n",
              "      background-color: #E2EBFA;\n",
              "      box-shadow: 0px 1px 2px rgba(60, 64, 67, 0.3), 0px 1px 3px 1px rgba(60, 64, 67, 0.15);\n",
              "      fill: #174EA6;\n",
              "    }\n",
              "\n",
              "    [theme=dark] .colab-df-convert {\n",
              "      background-color: #3B4455;\n",
              "      fill: #D2E3FC;\n",
              "    }\n",
              "\n",
              "    [theme=dark] .colab-df-convert:hover {\n",
              "      background-color: #434B5C;\n",
              "      box-shadow: 0px 1px 3px 1px rgba(0, 0, 0, 0.15);\n",
              "      filter: drop-shadow(0px 1px 2px rgba(0, 0, 0, 0.3));\n",
              "      fill: #FFFFFF;\n",
              "    }\n",
              "  </style>\n",
              "\n",
              "      <script>\n",
              "        const buttonEl =\n",
              "          document.querySelector('#df-8283dbf1-1b3c-4427-a3e3-b1f1d10a891e button.colab-df-convert');\n",
              "        buttonEl.style.display =\n",
              "          google.colab.kernel.accessAllowed ? 'block' : 'none';\n",
              "\n",
              "        async function convertToInteractive(key) {\n",
              "          const element = document.querySelector('#df-8283dbf1-1b3c-4427-a3e3-b1f1d10a891e');\n",
              "          const dataTable =\n",
              "            await google.colab.kernel.invokeFunction('convertToInteractive',\n",
              "                                                     [key], {});\n",
              "          if (!dataTable) return;\n",
              "\n",
              "          const docLinkHtml = 'Like what you see? Visit the ' +\n",
              "            '<a target=\"_blank\" href=https://colab.research.google.com/notebooks/data_table.ipynb>data table notebook</a>'\n",
              "            + ' to learn more about interactive tables.';\n",
              "          element.innerHTML = '';\n",
              "          dataTable['output_type'] = 'display_data';\n",
              "          await google.colab.output.renderOutput(dataTable, element);\n",
              "          const docLink = document.createElement('div');\n",
              "          docLink.innerHTML = docLinkHtml;\n",
              "          element.appendChild(docLink);\n",
              "        }\n",
              "      </script>\n",
              "    </div>\n",
              "  </div>\n",
              "  "
            ]
          },
          "metadata": {},
          "execution_count": 327
        }
      ]
    },
    {
      "cell_type": "markdown",
      "source": [
        "####Recombining"
      ],
      "metadata": {
        "id": "rSZIddyfx2W2"
      }
    },
    {
      "cell_type": "code",
      "source": [
        "cleaned = pd.concat([train_fill, test_fill], axis=0).reset_index(drop=True)"
      ],
      "metadata": {
        "id": "velu9ExSx1Tm"
      },
      "execution_count": null,
      "outputs": []
    },
    {
      "cell_type": "markdown",
      "source": [
        "####Rechecking for missing values"
      ],
      "metadata": {
        "id": "0rKnEdY-yjRS"
      }
    },
    {
      "cell_type": "code",
      "source": [
        "print('MISSING VALUES AFTER:')\n",
        "print(cleaned.isna().sum())\n",
        "print()\n",
        "print('Shape:')\n",
        "cleaned.shape"
      ],
      "metadata": {
        "colab": {
          "base_uri": "https://localhost:8080/"
        },
        "id": "fTwBx6_qy5Y6",
        "outputId": "f1b7edf6-d010-497e-f4cf-3f28f8c0c53b"
      },
      "execution_count": null,
      "outputs": [
        {
          "output_type": "stream",
          "name": "stdout",
          "text": [
            "MISSING VALUES AFTER:\n",
            "label          0\n",
            "id             0\n",
            "fea_1          0\n",
            "fea_2          0\n",
            "fea_3          0\n",
            "fea_4          0\n",
            "fea_6          0\n",
            "fea_7          0\n",
            "fea_10         0\n",
            "fea_11         0\n",
            "less_1265      0\n",
            "less_75000     0\n",
            "between_3n4    0\n",
            "not_0          0\n",
            "dtype: int64\n",
            "\n",
            "Shape:\n"
          ]
        },
        {
          "output_type": "execute_result",
          "data": {
            "text/plain": [
              "(450, 14)"
            ]
          },
          "metadata": {},
          "execution_count": 329
        }
      ]
    },
    {
      "cell_type": "markdown",
      "source": [
        "#Saving cleaned dataset"
      ],
      "metadata": {
        "id": "1Y823cpP0w4e"
      }
    },
    {
      "cell_type": "code",
      "source": [
        "cleaned.to_csv('credit_risk_customer_cleaned.csv')"
      ],
      "metadata": {
        "id": "QEZcrelD0zQt"
      },
      "execution_count": null,
      "outputs": []
    }
  ]
}